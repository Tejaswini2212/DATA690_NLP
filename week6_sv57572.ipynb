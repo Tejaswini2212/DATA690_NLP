{
  "nbformat": 4,
  "nbformat_minor": 0,
  "metadata": {
    "colab": {
      "provenance": []
    },
    "kernelspec": {
      "name": "python3",
      "display_name": "Python 3"
    },
    "language_info": {
      "name": "python"
    }
  },
  "cells": [
    {
      "cell_type": "markdown",
      "source": [
        "Exercise 1"
      ],
      "metadata": {
        "id": "Ip-lntr9LMd2"
      }
    },
    {
      "cell_type": "code",
      "execution_count": 5,
      "metadata": {
        "colab": {
          "base_uri": "https://localhost:8080/"
        },
        "id": "JedNor5I-skD",
        "outputId": "16cff04f-daa6-4ee9-a9a7-07a9dfef12b0"
      },
      "outputs": [
        {
          "output_type": "stream",
          "name": "stdout",
          "text": [
            "Requirement already satisfied: markovify in /usr/local/lib/python3.11/dist-packages (0.9.4)\n",
            "Requirement already satisfied: pandas in /usr/local/lib/python3.11/dist-packages (2.2.2)\n",
            "Requirement already satisfied: unidecode in /usr/local/lib/python3.11/dist-packages (from markovify) (1.3.8)\n",
            "Requirement already satisfied: numpy>=1.23.2 in /usr/local/lib/python3.11/dist-packages (from pandas) (2.0.2)\n",
            "Requirement already satisfied: python-dateutil>=2.8.2 in /usr/local/lib/python3.11/dist-packages (from pandas) (2.8.2)\n",
            "Requirement already satisfied: pytz>=2020.1 in /usr/local/lib/python3.11/dist-packages (from pandas) (2025.2)\n",
            "Requirement already satisfied: tzdata>=2022.7 in /usr/local/lib/python3.11/dist-packages (from pandas) (2025.2)\n",
            "Requirement already satisfied: six>=1.5 in /usr/local/lib/python3.11/dist-packages (from python-dateutil>=2.8.2->pandas) (1.17.0)\n"
          ]
        }
      ],
      "source": [
        "!pip install markovify pandas\n",
        "import pandas as pd\n",
        "import markovify"
      ]
    },
    {
      "cell_type": "code",
      "source": [
        "inp = pd.read_csv('abcnews-date-text.csv')\n",
        "\n",
        "# Filtering out very short headlines\n",
        "headlines = inp['headline_text'].dropna()\n",
        "headlines = [h for h in headlines if len(h.strip().split()) > 2]\n",
        "\n",
        "# Combining headlines into one text string\n",
        "text_data = '. '.join(headlines)\n",
        "\n",
        "# Creating a Markov model with smaller state size\n",
        "text_model = markovify.Text(text_data, state_size=1)\n",
        "\n",
        "# Generating 10 sentences\n",
        "for i in range(10):\n",
        "    print(f\"{i+1}: {text_model.make_sentence()}\")"
      ],
      "metadata": {
        "colab": {
          "base_uri": "https://localhost:8080/"
        },
        "id": "64xGCLtmAMcZ",
        "outputId": "4e154bae-945d-476d-8e3e-87ba8cbd942f"
      },
      "execution_count": 7,
      "outputs": [
        {
          "output_type": "stream",
          "name": "stdout",
          "text": [
            "1: 10yr high. colton sentenced for sydney harbour. leaked documents revealed. new zealand hikers. multiple armed sky complaints delay worries aired for tax down. scullion apologises for tortured nepal to flee violence and rain hits maximum possible election victory. black listing. heroin stash. man dies after ramming vessel.\n",
            "2: 21 cases surge by expanding survey. ryan pulls out at ebola outbreak tests positive after mass deportation from mistakes. risk has not guilty. stolen from canberra anthony weiner resigns. most of reckoning for troubled fallon gives rugby future. driver drug network. confusion over radio. council membership. brits stockpiling illegal. group backs new homes. student connor bali child hostage. png landslide. share christmas spending fuels greenhouse gas. union not getting out for water supplies. duke tunes into alleged terrorism laws. freed after fleeing lebanon. australian workplace breaches sydney preparing to pursue premiership favourite prime minister not guilty over cootamundra murray pipeline restoration of tucson lead. wallabies return to be upgraded. one major overhaul superannuation burnt in mexico. employers must pay offer. sri lankan clashes. thai striker. storm death may have left out. israel fails to airport. pm phone firm. iraqi agriculture minister highlights swimming areas list. religion insights. welfare group. kasper rested by foreign journalists.\n",
            "3: 2007 survey. september heat off usd 545k in trading hours. tunisia clinch african swine flu claims deserved best shape after their homes near. western nsw government loses to miss a mistake for stolen. western queensland. five young swimmers. solomon islands corals affected in wake of the anzac day in the west australian killed three people charged over telstra sale too strong for royal commission hands to stop prison rates. how sydney turf shows that young presenters attack on plan to quota. toyota recalls harmison routs aussie emoji by nsw taxi industry welcomes closer pm dumps green looks to fly fishers aim for drive in kangaroo island for mobile phones. dapto roads reopening. pay for maccas. man jailed over sydney pile up. doctors happy qasim a keen for sensible old style as bombardment. no contamination of s korean peninsula and mohammed elomar filmed in four in nsw. crew member poisoned. glenn maxwell damien turias mother depressed teens. new highway wilcannia. the mango crop plan. brumby group plans for missing 88yo on fiona patten willie takes oath to sign water safe. my greatest prize. phoenix pub club camp. yarloop clean up. spielberg honoured on track. madonna wins literary prize for summit hears. games snub. coastal plan designed to seize cannabis crop. andrews youth justice party merger. kyrgyz poll results. toowoomba bakery founder knew his vatican delays but spirit recognised. rooney in whaling stance. swans ted quinlan hails inspirational waugh. interview adam boorks backs police hunt continues to face extra staff reince priebus. whos settled in limbo. tszyu weighs into sons accident. ira violence towards grand final. wetting self funded lawyers withdraw from schools. backbenchers call for everyone at controversial palmerston lake eyre canoeists found near california criminal court. dpp clears lomu abuser should act as yancoal to return to race meet. changi lock up della bosca. bushfire recovery funding. penfold seeks to dob on carbon. inpex gas drilling to increase. lewis survivor rescued from novichok case. hodgman ejection complaint. job over odour control national geographic afghan insurgent attacks afghan spy appeal. marist brother wants quick for powerful battery hen farm. teens to appear to stay number of the north south africa aiming to consider green lights toronto final. petrusma no evidence to save former nsw police consider convention centre takes rap act against animal. mel gibsons russian journalist mike rann backs for three in karrakup crash. flawless kim jong un chief to borrow 3m cannabis haul. mine industry. gendered titles sunshine coast. storms kill palestinian factions power station. israeli troops kill threat eases into gold. japan resumes whaling ship off lions top 135. israel accused bourke locals urged to court fight to the handshake leads qualifiers debut. clarke still eligible parole qld. act labor candidate. gillard on black saturday as inter manager. serbias electricity grid in iraq. frances alain robert goulet dead uk arrivals figures could expose fundamental errors. howard at wee prank. russian apartment building. union relieved messenger complaint. india floods leave the year. new pay for alice. lawrie to keep flowing smoothly. gritty urban wheat disease ruled invalid. park turf. sergeant michael parkinson to farewell slim dusty mines to welcome pms climate policy. mfs capa. new independence faction to pay price woodlawn waste port elizabeth proust. new coal gas hub faces court.\n",
            "4: 1 win queens birthday honours. technology 0. copper outperform houses. crime trials. wool bale sold online. russia takes preston to tap into dpps volkers sex charge. bundy rum soft tissue production. men steal show opening ceremony to use jumps racing. ads arrive at next big meets. thousands remember slain hostages freed after earthquake. officers to boom. former child sex crime prevention funds. thomas unsure on day of war. rooftop protest. australian quarantine problems. peppa pig returns but cold esky released after apology. technical college closure may help restore forgotten art buy. aussie troops. carey on climate change report finds. iraq bound flight. australia world first talks about new zealand to blame alcohol test win. indigenous asthma. version of court. man killed in quake monitoring mission beach plans. rfs expected to dent da vinci code targets gregan rumour squashed. england will encourage more info in kashmir civilians. lebanon for more house of teenage. organisers defend saddam. us battered not welcome. arrest teen boxer confident of economic times. power plant. firefighters battle for x memorial. public help. broken in mudgee. im world coal sales down sick kids of united states backing obama. van ryn sentence for scotland ready for liberal party organiser welcomes melting fast. after indonesian island. plane crash. island plastic to spend slow. pacific meteorologists predict tough planning appeals. defence freed from prison. qld sign barbarouses. roddick waltzes into toronto globe for telstra regulation of stalking pru goward angry over planned bhp billiton shares plunge trade war protest against storm. olmert and brother a growth claims of the third appeal to grab draw xenophon defends crime solution. macau triad crackdown. police drain tampering. deakin warnambool campus. us brazil prison support. nhulunbuy residents asked to capture plan. aust police plane crash probe. accident lifts jaguar cubs flown in green industries urged to cut kevin may be replaced. environmental projects on eve of water carting reprieve. search for clean coal ash barty and wills within minutes. player of sullivans sprint queen norah jones jr defends riverside cemeter. dna researcher plots return to tease out with. jakarta bombers. two stabbings. man to cut backs. russell scholes hangs back to end of interest again under new mp still expecting twins battle blaze. cyclist hit haiti. hurricane irma makes shock arrival forces charlton down warriors. pfizer fine drivers plan rushed. relationship poses tb scare frightens burglar. couple that was shattered as new land council to miss socceroos lead in years. tamworth target after hendra. vic authorities. monsanto papers. adam coffey vows i feel like kitchen to take to resign. lions zoo as. france drafts policy no more. australian open. fighting in mental health violence. victorian department spending night organisers confident of office. extended chat helping journalists plead abbott announces five year round. uni places. charges dropped. jihadi recruitment firm wins stage fresh child sex. man to anti terrorism warrant for hamas. valuation takeover bid. kamala harris sale secrecy. grandstand digital challenges. retiring from the polls. india gear in bosnian village. cricket aussies head comes to come. mp ramps up for four with arafats medical marijuana cultivation. man from coma. vietnam resolve multi million trees cropping in west of sport. keli lane farewelled. former greens campaigner seeks native plantings. gunners title against southern stars for davis cup hand cronulla sharks tigers clash. albion park backflip. grant to get funeral for horse flu fight over asylum seeker boat firm. cream poor from afar. israeli president howard launches it heads to tackle bikie threatened by us expert says. paul ryan lochte takes on reserves may ring in canberra. sitting unoccupied. new olympic chance. gender fight back regional race club unveils debt reduction burns. fire forces to enter guilty of facing three causes of blues. mass brawl victims of begging laws. aerospace centre. pipis go public. john pay back money. seeney pushes air base. soaring living. malcolm turnbull. nsw govt to bin challenge. threat warrants able to strike. new chinese businessman convicted of vicious tailspin. education system errors killed in 100m super computer bug protein mapping emergencies. remote communities. australian potato crops. market slide. wind farm workers lured to share knights duo. holiday likely loser scare. el salvador. multi country club is now for pilbara chosen over body found in federal election campaign car on ethanol industry. green group warns alp expects huge mango exports with stick. women prisoners max bromsons suicide. labor coaltion changes robert adams information aids treatment like six nations south african role in philippines. three injured shoulder. buckley out match at australian open mind study. farmers hope for aussie handed record fine hikes after 4wd roll sparks over protests. hunter vignerons hopeful of wa farmers. fee windfall. adelaide botanic garden gnomes. vic govt of serbian. hundreds leave empty photos showcase skills. inquest hears. people missing patient. wally lewis staffers golden open air service issues ultimatum for farmers. coolen to leave rights. actu seeks health inquiry finds nuclear concerns doctor jailed for aspiring air force. is now says offshore fisheries pursues us growth forecast. rba delivers mixed finish for film and sexuality at the afp material. trapped under threat. vic treasurer starts class act goes on line on teacher. facebook under recycling to halve. council counts cost farmers.\n",
            "5: 70 tamils. steady rain. readjusting its worst tourist disappearance as salinity policy. lives on. uber surcharge only on canberra show budget good friday not wait times ahead with stalking charge. foley again in canberra. arrium taxpayer funded places. al baxter. minister touts 100m wr. health effects of junior footballers committed to discuss townsville flooding dispute. donors considered suspicious. buddhist monks recommence operations. nt government laws mean png expects australia chief quits. free trade agreement. brisbane ship giving asylum boat. colemans bridge gaps libs. faltering in touch down. vanuatu welcomes malaysia seeks senate agrees to target cooks up beat port adelaide zoo. golfer perske tipped for missing bushwalkers found. multi million to irc. gas projects benefit of nrl grand final. greens defeat for. cows will not expected next big snowfall. paralympic games. tasports deal. joyce complaint over nuclear capacity crime fighting. mercedes in house fire. govt formalises afghan insurgents step up for. gutsy roos. interview trent cotchin play english language. macadamia provokes clan lab on minerals expands sanctions on wa sanctuary. fire crews free trade in new sculptures to 23 september. cougar puzzled over new directors. driver unhurt and furious walker takes out of housing gst. broadband plan. liberal national park mosque fire. rescued from darfur carnage. police militant. i won bronze medallist lashko makes electric parade marks over jason bright lights up beat iraq pullout referendum indigenous rehab centre funds. gold coast. body of race community. nz when our prime minister demands proof fence hope for us criticism. guatemala gun buy oil price hike in. burst pipe. we find body image of asylum seeker boat propeller. mother defends aust open title. hazeldenes makes landfall in second bailout. driver dies in honiara. infrastructure spending transparency on to hand delivered on great barrier reef impact. researcher plots path to cut powell unsure over cemetery was home. australian experts worried about a crocodile. dramatic win. days may work starts today. business leaders divided party. kevin austin health player of dead in dubai upholds president admits sex allegations smear campaign. icelands hatari perform aeroplane collector. peter weston land. bus car crash. peter carey real deal doubts. child migrants to bombers. roos in sydney to lobby groups fear flawed character deportation. us landlord to happen. fleur bainger talks seoul. forgotten orford under fire at mon 4 review in canberra. man accused of sea ice taskforce will aid sought over super saturday results announced. querrey isner on certain link not guilty of bail. membrey accused of renewal of year. big country town cut back to bring big task. mick malthouse. jakarta hotel. alarm system goes unemptied for highway funding deadline. macquarie council ceo exodus report. banks to appear in hornsby. woman what is now for cannes. who is killing civilians. bendigo calls for north battens down waterfall. police seize cannabis haul in queensland. flood protection after mayonnaise food award winners at italian troops questioned. former deputy. roeder collapses in dunes to join iraqi search for early screen. bega fire. extended interview jonathon dunn wins battle on euro 2004 trouble. zimbabwe cholera outbreak in after indonesian police conduct recommended for hours; days the rise. capital shaken by injuries. rural health risk to south fremantle dockers wary of overcrowding in wa. singapore airlines uncertain for rositas bendigo burglaries. six injured after killer granted bail. uluru of african youth sex crimes. russia to get new hospital. mp awaits sentencing due to simplify charges. spike in car dies. staff flights unlikely in crocodile. hurricane katrina. police suspect stolen goods distributed productivity. chemical spill. wide bay gets down after delhi belly. kasper out for australia. gold fingerprinting should not seeking helping qld power. saudis to fence creator working days are live scorpions captain jack hale faces drugs seized by court over drug arrest. justice centre. floodwaters after tigers win. man hospitalised after chlorine used in iraq. us rate expected for mi6 captain. water entitlements. falconio tv set up after dad's brush with alan tongue lizard is slowing of a time. graffiti resistant to the rise. lyons misses out by obstetric gynaecological. morgan prepares for sun yang power grab synchro diving. aussie team up clarkson slams cgu for spying. clp leadership. neitz to decide strength of dolphins on roll out of elevated fire for yeoval in peru. lord howe london trip. leaders to drought sees aussie riseley takes first conviction for glenorchy council offers free russian siege. sa new water compo bid. wiki in hometown favourite russias putin is known about pacific highway fatal sydney uni to boost jobs co offenders first australian government admits bestiality charges. private investigator. clarke warner banned for quake. jet lee sent to put runs for the voice. santa cruz. farm in soggy tutus. six killed hit north queensland. storms to run for. turnbull announces tank buy queensland families. aid operation. dorazio row wont miss chance 100 million bailout. power station owners say liberals. filipino women after talks. us troop withdrawal. un seeks governance labor. scott morrison federal funding misuse. car pile on lobster industry understaffed. two decades. superannuation consumers track nurse to boost orange death. man charged after midair fire. cabrera in the 737 passenger escapes serious charge group details political reporter. fans embark on with insulting egypts islamists demand greater role as webb to maintain irrigation water cut. sa teacher charged over roast chickens. resolution for heritage push. bligh details published as superhero film. paul hogan sex crimes. support for north korea agrees world surf race again. drought crisis accommodation. telstra future. world championships. jayawardene inspire brisbane city. irwin speaks to conservation. national issues warning for bombers strike rattles us bridge timber company executives warned after ms dhu's mother and market attack. man over river flooding. harvey dismisses us steelmaker to silo closure opposition. sa govt. mirka mora mural can win of rate pegging system for liberals deny blame the bush. barker mp wants different masters games athletes set for. taiwans ma for solomons rebel mp. council clears lower amid stimulus spending. government considers alcohol laws. richard hinds. no greater role in racehorse trainer ray of academic. search man shot in the super teams to remedy for drug lord mervyn bishop supports proposed botany expansion. premier does islamic state record label new law. grandad quits last stop weed seeds. oil rises from burning around. sydney dust settles shareholder approval unlikely. tuesday 21 in israeli army shells lebanon. kurdish forces kill powers. islamic school zone invoked for teen caffeine. cruise ships. trio facing compo gap security demands. residents vote in sydney suicide blasts. police seek more than average. victorian weather sign in mid year. eels nrl. childhood education fund new. pugnacious puppet show. black hole in final set for long world of. meet with byron bay beach rescue. polo squad. through for gun drugs cash incentive package. afl link. david sandurski aims to teens club change planned for firm on us house fire memorial. scissors during apec. indigenous rangers for palestinian prisoners health institute lectures. nepal holds off andrews cases on child. court hears river bridges wins us for extra powers ahead. nurses union boss farewells drowned says confidence vote. its school. knights team signals cut staff. missile deployment in syria war blix. islamic video. luke gosling fired into ravine in. aussie english fans gone. wine exports ban. food waste. man awaits port lincoln plan. hail heart surgery. smoke forces evacuation a brief return to go ahead. surrogacy fertility research would you criticise new cold climate. victoria police. left with schuettler. firies hope gone for vic road map retains illawarra council rejects iraq says its own. desert trek. broken hill turns 93. daniel wells. hicks elated after thomas cook islands. ingrid may boost city shooting. germany for us sex abuse victims going all clear for ct scanner trial at knifepoint during english skills shortage report. agl expansion plans pork producer takes reins of aussies will have garland braddon set to national insurance premiums under tuesday july 15. development contested place as nanny claims. nsw to gm could hit road. council concerned council to local journalists release cctv footage of election 2016: what just 600 arrested naked man accused planned australia living dangerously airs asbestos find body discovery. consumer watchdog shamed entire neighbourhood exchanges at ekka bull. islanders native title resolution. big turnout for texting kellyville gunshot wounds 10 rounds fired power authority to sign watkins. iemmas job campaign over. better water restrictions. israel launches with history set. iaea begins on high winds fan wa dave noonan speaks out. venus powers bill by aust airborne set to allow for stronger cannabis find. three of attacking teens. breakers get bulletproof buses for new information margaret river health interference. us researchers question freos thornton. boaties criticised for foreign investment. council tells mps. episode 2: strange. corbys lawyers call for more than just wild townsville murder. kasper set for randivs no action on playing days trapped between alcohol restrictions loom in county. scott johnson over thermos. clubs move mooted for roos. brumbies trial over handling of their weather taking too close eye on drug offenders in. ramos horta wants to adopt child deported after siege. holt harvey victims yet to save downed clashes at oran park zones backflip not guilty of alp leadership poll. pm comments by roadside birth to run police officer link school in trading scandal. church state memorial honours menzies. newspaper protest. disgusting food industry. rescuers celebrated. lifes tough law stalls moving but stocks drive away from opi investigate infant simulator fails to egypt court judge only possible bird flu response to take road sealing. png earthquake before closure. study finds. brumby upbeat woods joins anu to top ticket response. indigenous protesters. japanese islands kills 28. blues in bsdm. perth kimberley. missile defence exercise. new laws. liberal mp airs boundary changes inevitable draw with un teams for better than its the us tourist dies after truck rolls on. fleet at wild oats begins tonight. no fly to save. burn an opinion on the gulf widens. bendigo cbd plans. investors unhappy with india offers office to world markets. opera house wonder. qantas flight. upper hand back at a major damage insurance and krishnas birth centre meet british clowns and furious over detention for children of swim tours of the situation in twenty20. population growing over cattle shortfall.\n",
            "6: 79 magnitude earthquake. mh370 plane shortage illawarra. ses on the future dreaming. indonesia to condemn dennis miller. afl manager sentenced to bendigo get 175m in adelaide. police search continues for wimmera mallee blazes. wall st kilda. socceroos world footballs anger over the oscars favourites. locusts follow. minister michael cavangh speaks out of a new emergency extension. cane growers consider lobster industry in monaco. search for sentencing. jarred hodges considers moving down apra flags own terms upheld by fingerprint checks. clubs dish out tax plan rolling scandals. pharmacist drugged kidnapped journo faces big weekend. fowler slips on rape case. death blamed for going bomber. saints recall. gold in total radar plan. too good. grampians businesses blast dumps plan site. changes aim at least 30 soldiers to. government plans afoot to be transformed into space. railway tce found not planning debate. australian government fast food truck hits back. second round applications. councillor urges cattle empire rubber. govt books probed by new care residents. cape pallarenda land. kelly gang violence counselling to perform same. council under investigation launched aboriginal burial choices for bribing saudi police called off. aussie windsurfer crisp. henzell knocked down to quake forum told boy drowns after car accident. engineers win 13th century sets up wall. its 100th birthday. kings chase lead problem. qld police investigate death toll hits nato strike endangers asian cup. motorcyclist says drop after admiring winerys pay. gene the most expensive drug trafficking charges laid after drug eteplirsin. federal drug trafficking cannabis. eden monaro. nba debut. four liberals yet on planning strategy going heywire competition in hospital. german pole and everyones alive: jane. angry over mildura city to strip poker. men on fire conditions blight mining royalty rate cut. garnaut confirms trump xi jinping takes two: ben cousins charged after huxley attack. why would cause major animation naidoc awards recognise kawana golf clubs stoush over welfare groups. sam ayoub. one dayer washed away. greenpeace report power station. a cheap sydney security funds sought in home. darwin joins insiders. st helens. kuwait 0 lead. natural chief criticises council rejects footpath for blood red card fraud. last gasp point epic. victoria secures release of israel. prosecutors hand over alcohol supply cant afford education dept says. carer robs food levy. council finds semi thriller. deported to get two adelaide passengers injured in the. hugh jackman in vic govt questioned over trust miners pulled out engine thefts. police station. bin blast. police seize american tour. safer highway. mp backs proposed tuna ban. tas rivers. childrens rail tunnel project kicks six weeks. arthurs crashes at bom says. a portable leave more aust china. bird marine life. canberras population growth sluggish. trump says landbridge. women earn almost hangs on dwyer talks to fund school debate may make up ammunition depot expected to reach verdict. friends family of china gives only helping rohingya refugees able to shut guantanamo abuse tools on long march analyses iraq celebrates business community attitude to a set up rural resident welcomed in forest. advice on citizenship shake up. drunk driver james hardie profits despite deaths under 20s gambling. candidate unfazed by vanstone to change projections. melbourne security licenses stripped.\n",
            "7: 100 trains delayed bowling coach. stabbing accused denied entry into. lebanese of apartheid safrica says bell. breed distracted by mid air force iraq. french senate calls for help. antonio datillo perjury nepotism claims. crowds expected back to hospital. ashes test.\n",
            "8: 825000 stranded brisbane arrives for thousands expected to 14b. woman jailed for bulldogs leading expedition on live blog. banks dies. murray river pro set international. money predicts bleak picture book. latham on rate broadband. lgh for help advertisers media. bomb scare. new england players player asia allies merkel. europe routes. more years. donald trump. wheeled danger campaigns mnangagwa hails grant. pm to the streets. dubbo pigs. builders consider racial discrimination claim. hoffa case.\n",
            "9: 11 bodies found dead. brisbane doctor defends neill pledges to falls victim out return soon. bomb attack over support during apology coniston school shooting suspect worked for new import. rail project behind tasmanian independent mp rejects brogden says democrats urge caution amid collapse efforts. ecoli worries in doubt. labor outlines greens senators ahead of life savers do labor. federer happy at giant slapped with professor patrick reed mahoney. candidates expected to be charged after cherry growers look for closure to face sex abuse. s korea about goldfields nickel miner not disappointed by proposed citizenship. latin america. sharks caught breaking point. jeff fenech points against bushrangers. red symons of japan back london attacks piracy lawsuits. boomers get what is down. wa govt wont be commissioned. hospitals to close lower fuel overweight patrons. climate change in hong kong protests in serious condition after helping hand at royal australian absence. young person dead after missile drill court told. naked celebrities fuelling high. maryborough shows troops slain officer statement. water supplies. sunrice sale sports star maurice jarre dies. watch and djs. mathematics teachers win at airports. snowstorm blankets hobart cars. liam jurrah remanded in reykjavik stocks surge questions vic uni withdrawal stance. nardell unsecured creditors vote on iraq analyst. qld crops. green light. laurie daley. national parks. swans win. world sport. founder williams. investigators raid on adelaide to be held for aussie selectors. dandenong adelaide school. trio to boomers beat knights. bulldogs in geelong. act opp calls for new zealand beach. record crowd support. bill amid allegations. union speech to fight assault at cunderdin hospital. platypus genome patent. caucaunibuca rubbed out. commonwealth could signal heard. ottens as santa more gold. greek police lay drug linked to open to send to sea. twin towers. andrew hogan sex offences in water licencing changes tune wants national park weather weekend. fmg settles dispute kosciusko road crash victims. gippsland council holds bodies found. mother julie bishop australia day 12 man dropped after boat ramp. federal court told.\n",
            "10: 75m to feed the rise. council woes. alligator attack. indigenous policing funding questioned. thousands flock to hear new division of speech on signing russia ties. australian al qaeda. sept 11 hurt albany mayor says bracks. building heights crash child porn man. police continue across iraq. detention centre funds. dental changes. joy for the public. nrl judiciary. bulldogs in attempted murder appeal. community bank agrees to swing in race fall. police probe into tough new laws were. whincup wins melbourne uni. sydney what abandoning arms in north korean school. hockey preview williams tops us in turkish army for pet market claws back to elections in uk lawmakers brand damaged. fisherman says. two injured in pine concerns. lloyd to augusta. spain announces its iron ore mine blast. australia must support for more darling meeting. wa opposition supporters. nigel scullion says cats promise export bill for killing marine reptile. customers duped individuals jones. vanstone senate. us to move despite feasibility study. new domestic violence flares in healthy constituents to choose mediation sought for 2011. time to bhp appoints new book world energy power. study finds businesses to raiders not giving tree pruning. courageous commando cleared of stealing charges. end to germany. warriors show in entire six questioned over alleged. sydney against women lose against broncos. rail freight train drivers of rising as kirby lectures. nepal bans possible. mothers murder. sydney fc newcastle uni staff in play after crashes. police sound barrier ruling. nyc cabbies seek justice. tropical fish catch fleeing lebanon. tas shores. bore drilling bungle. tim sheens. jail fears bird flu. trio charged over golf course for future of st pauls. spielberg honoured at truganini bust in thriller. kezman double stabbing. sa govt spending record questions to talk about a giffy: the trans tasman kayakers radio program. iran needs green fight. vanstone hints at readiness hippy shanty town obliterated. disability justice urges permanent trayning counts cost of commonwealth history of germany joins australian cricket australia to manslaughter. court hears. turning point in reef regulation and emotional demons focused on bryant suicide bomber kills 4 killed one third zarqawi death on back on growth. mine diamond mine chemical scare to move. tourist spot in the iron project set to increase. illegal fishermen. hopes plan in new members. fergusons new coach. jimmy carter says. royal commission to hose down for cup. china bankrolls png damage.\n"
          ]
        }
      ]
    },
    {
      "cell_type": "markdown",
      "source": [
        "Exercise 2"
      ],
      "metadata": {
        "id": "9rrjcEZ7LSKF"
      }
    },
    {
      "cell_type": "code",
      "source": [
        "# Installing sumy and nltk (if not already installed)\n",
        "!pip install sumy\n",
        "!pip install nltk\n"
      ],
      "metadata": {
        "colab": {
          "base_uri": "https://localhost:8080/"
        },
        "id": "9oZL9k2F-uqL",
        "outputId": "da15ce92-734f-46d7-b1c5-861e2a7b0104"
      },
      "execution_count": 11,
      "outputs": [
        {
          "output_type": "stream",
          "name": "stdout",
          "text": [
            "Collecting sumy\n",
            "  Downloading sumy-0.11.0-py2.py3-none-any.whl.metadata (7.5 kB)\n",
            "Collecting docopt<0.7,>=0.6.1 (from sumy)\n",
            "  Downloading docopt-0.6.2.tar.gz (25 kB)\n",
            "  Preparing metadata (setup.py) ... \u001b[?25l\u001b[?25hdone\n",
            "Collecting breadability>=0.1.20 (from sumy)\n",
            "  Downloading breadability-0.1.20.tar.gz (32 kB)\n",
            "  Preparing metadata (setup.py) ... \u001b[?25l\u001b[?25hdone\n",
            "Requirement already satisfied: requests>=2.7.0 in /usr/local/lib/python3.11/dist-packages (from sumy) (2.32.3)\n",
            "Collecting pycountry>=18.2.23 (from sumy)\n",
            "  Downloading pycountry-24.6.1-py3-none-any.whl.metadata (12 kB)\n",
            "Requirement already satisfied: nltk>=3.0.2 in /usr/local/lib/python3.11/dist-packages (from sumy) (3.9.1)\n",
            "Requirement already satisfied: chardet in /usr/local/lib/python3.11/dist-packages (from breadability>=0.1.20->sumy) (5.2.0)\n",
            "Requirement already satisfied: lxml>=2.0 in /usr/local/lib/python3.11/dist-packages (from breadability>=0.1.20->sumy) (5.3.1)\n",
            "Requirement already satisfied: click in /usr/local/lib/python3.11/dist-packages (from nltk>=3.0.2->sumy) (8.1.8)\n",
            "Requirement already satisfied: joblib in /usr/local/lib/python3.11/dist-packages (from nltk>=3.0.2->sumy) (1.4.2)\n",
            "Requirement already satisfied: regex>=2021.8.3 in /usr/local/lib/python3.11/dist-packages (from nltk>=3.0.2->sumy) (2024.11.6)\n",
            "Requirement already satisfied: tqdm in /usr/local/lib/python3.11/dist-packages (from nltk>=3.0.2->sumy) (4.67.1)\n",
            "Requirement already satisfied: charset-normalizer<4,>=2 in /usr/local/lib/python3.11/dist-packages (from requests>=2.7.0->sumy) (3.4.1)\n",
            "Requirement already satisfied: idna<4,>=2.5 in /usr/local/lib/python3.11/dist-packages (from requests>=2.7.0->sumy) (3.10)\n",
            "Requirement already satisfied: urllib3<3,>=1.21.1 in /usr/local/lib/python3.11/dist-packages (from requests>=2.7.0->sumy) (2.3.0)\n",
            "Requirement already satisfied: certifi>=2017.4.17 in /usr/local/lib/python3.11/dist-packages (from requests>=2.7.0->sumy) (2025.1.31)\n",
            "Downloading sumy-0.11.0-py2.py3-none-any.whl (97 kB)\n",
            "\u001b[2K   \u001b[90m━━━━━━━━━━━━━━━━━━━━━━━━━━━━━━━━━━━━━━━━\u001b[0m \u001b[32m97.3/97.3 kB\u001b[0m \u001b[31m7.2 MB/s\u001b[0m eta \u001b[36m0:00:00\u001b[0m\n",
            "\u001b[?25hDownloading pycountry-24.6.1-py3-none-any.whl (6.3 MB)\n",
            "\u001b[2K   \u001b[90m━━━━━━━━━━━━━━━━━━━━━━━━━━━━━━━━━━━━━━━━\u001b[0m \u001b[32m6.3/6.3 MB\u001b[0m \u001b[31m89.4 MB/s\u001b[0m eta \u001b[36m0:00:00\u001b[0m\n",
            "\u001b[?25hBuilding wheels for collected packages: breadability, docopt\n",
            "  Building wheel for breadability (setup.py) ... \u001b[?25l\u001b[?25hdone\n",
            "  Created wheel for breadability: filename=breadability-0.1.20-py2.py3-none-any.whl size=21693 sha256=202e68f02e755addc285039ab5e232074352d92000c19b93d6ed83a4e038a485\n",
            "  Stored in directory: /root/.cache/pip/wheels/4d/57/58/7e3d7fedf51fe248b7fcee3df6945ae28638e22cddf01eb92b\n",
            "  Building wheel for docopt (setup.py) ... \u001b[?25l\u001b[?25hdone\n",
            "  Created wheel for docopt: filename=docopt-0.6.2-py2.py3-none-any.whl size=13706 sha256=961fc15b465e457df858c84bf1c16183b86679e6f5763847e2d516f0ed9aa7b5\n",
            "  Stored in directory: /root/.cache/pip/wheels/1a/b0/8c/4b75c4116c31f83c8f9f047231251e13cc74481cca4a78a9ce\n",
            "Successfully built breadability docopt\n",
            "Installing collected packages: docopt, pycountry, breadability, sumy\n",
            "Successfully installed breadability-0.1.20 docopt-0.6.2 pycountry-24.6.1 sumy-0.11.0\n",
            "Requirement already satisfied: nltk in /usr/local/lib/python3.11/dist-packages (3.9.1)\n",
            "Requirement already satisfied: click in /usr/local/lib/python3.11/dist-packages (from nltk) (8.1.8)\n",
            "Requirement already satisfied: joblib in /usr/local/lib/python3.11/dist-packages (from nltk) (1.4.2)\n",
            "Requirement already satisfied: regex>=2021.8.3 in /usr/local/lib/python3.11/dist-packages (from nltk) (2024.11.6)\n",
            "Requirement already satisfied: tqdm in /usr/local/lib/python3.11/dist-packages (from nltk) (4.67.1)\n"
          ]
        },
        {
          "output_type": "stream",
          "name": "stderr",
          "text": [
            "[nltk_data] Downloading package punkt to /root/nltk_data...\n",
            "[nltk_data]   Package punkt is already up-to-date!\n"
          ]
        },
        {
          "output_type": "execute_result",
          "data": {
            "text/plain": [
              "True"
            ]
          },
          "metadata": {},
          "execution_count": 11
        }
      ]
    },
    {
      "cell_type": "code",
      "source": [
        "from sumy.parsers.plaintext import PlaintextParser\n",
        "from sumy.nlp.tokenizers import Tokenizer\n",
        "from sumy.summarizers.lsa import LsaSummarizer\n",
        "import nltk"
      ],
      "metadata": {
        "id": "UMDhN_rS-wtF"
      },
      "execution_count": 15,
      "outputs": []
    },
    {
      "cell_type": "code",
      "source": [
        "nltk.download('punkt')"
      ],
      "metadata": {
        "colab": {
          "base_uri": "https://localhost:8080/"
        },
        "id": "ZlvKsMi5JLkA",
        "outputId": "a0145ae4-7137-40c6-de80-4f01cff02248"
      },
      "execution_count": 18,
      "outputs": [
        {
          "output_type": "stream",
          "name": "stderr",
          "text": [
            "[nltk_data] Downloading package punkt to /root/nltk_data...\n",
            "[nltk_data]   Package punkt is already up-to-date!\n"
          ]
        },
        {
          "output_type": "execute_result",
          "data": {
            "text/plain": [
              "True"
            ]
          },
          "metadata": {},
          "execution_count": 18
        }
      ]
    },
    {
      "cell_type": "code",
      "source": [
        "# Loading the text file\n",
        "with open(\"alice.txt\", \"r\", encoding='utf-8') as f:\n",
        "    text = f.read()\n",
        "\n",
        "# Setting up parser and summarizer\n",
        "parser = PlaintextParser.from_string(text, Tokenizer(\"english\"))\n",
        "summarizer = LsaSummarizer()\n",
        "\n",
        "# Printing top 5 summary sentences\n",
        "for sentence in summarizer(parser.document, 5):\n",
        "    print(sentence)\n"
      ],
      "metadata": {
        "colab": {
          "base_uri": "https://localhost:8080/"
        },
        "id": "5u7QV4KjB_re",
        "outputId": "4755a43c-8086-4c41-8089-0caa73bbee63"
      },
      "execution_count": 19,
      "outputs": [
        {
          "output_type": "stream",
          "name": "stdout",
          "text": [
            "The Mouse did not answer, so Alice went on eagerly:  `There is such a nice little dog near our house I should like to show you!\n",
            "The poor little thing sobbed again (or grunted, it was impossible to say which), and they went on for some while in silence.\n",
            "He sent them word I had not gone (We know it to be true): If she should push the matter on, What would become of you?\n",
            "Don't let him know she liked them best, For this must ever be A secret, kept from all the rest, Between yourself and me.'\n",
            "`If there's no meaning in it,' said the King, `that saves a world of trouble, you know, as we needn't try to find any.\n"
          ]
        }
      ]
    },
    {
      "cell_type": "markdown",
      "source": [
        "Exercise 3\n"
      ],
      "metadata": {
        "id": "iWPeNaH9LdwA"
      }
    },
    {
      "cell_type": "code",
      "source": [
        "import numpy as np\n",
        "import re\n",
        "from sklearn.feature_extraction.text import TfidfVectorizer\n",
        "from sklearn.decomposition import NMF\n",
        "from nltk.corpus import stopwords"
      ],
      "metadata": {
        "id": "12ejkehNC2Kg"
      },
      "execution_count": 24,
      "outputs": []
    },
    {
      "cell_type": "code",
      "source": [
        "# Download NLTK stopwords\n",
        "nltk.download('stopwords')\n",
        "stop_words = set(stopwords.words('english'))\n",
        "\n",
        "# Loading data and select headlines\n",
        "inp = pd.read_csv('abcnews-date-text.csv')\n",
        "headlines = inp['headline_text'].dropna().astype(str).tolist()"
      ],
      "metadata": {
        "colab": {
          "base_uri": "https://localhost:8080/"
        },
        "id": "Khl4rVvbJh_9",
        "outputId": "a977ef52-924e-4e18-cc46-307e835ddb2a"
      },
      "execution_count": 21,
      "outputs": [
        {
          "output_type": "stream",
          "name": "stderr",
          "text": [
            "[nltk_data] Downloading package stopwords to /root/nltk_data...\n",
            "[nltk_data]   Unzipping corpora/stopwords.zip.\n"
          ]
        }
      ]
    },
    {
      "cell_type": "code",
      "source": [
        "#Cleaning the text\n",
        "def clean_text(text):\n",
        "    text = re.sub(r'[^a-zA-Z\\s]', '', text)  # Remove non-letters\n",
        "    text = text.lower()\n",
        "    words = [word for word in text.split() if word not in stop_words and len(word) > 2]\n",
        "    return ' '.join(words)\n",
        "\n",
        "cleaned_headlines = [clean_text(headline) for headline in headlines]"
      ],
      "metadata": {
        "id": "xwbr_p23Kmpq"
      },
      "execution_count": null,
      "outputs": []
    },
    {
      "cell_type": "code",
      "source": [
        "# Vectorizing using TF-IDF\n",
        "vectorizer = TfidfVectorizer(max_features=1000)\n",
        "X = vectorizer.fit_transform(cleaned_headlines)\n",
        "idx_to_word = np.array(vectorizer.get_feature_names_out())"
      ],
      "metadata": {
        "id": "7xoVd6T6Kg6a"
      },
      "execution_count": null,
      "outputs": []
    },
    {
      "cell_type": "code",
      "source": [
        "# Fitting NMF model with 20 topics\n",
        "nmf = NMF(n_components=20, random_state=42)\n",
        "W = nmf.fit_transform(X)\n",
        "H = nmf.components_\n",
        "\n",
        "# Printing top 10 words for each topic\n",
        "for i, topic in enumerate(H):\n",
        "    top_words = idx_to_word[topic.argsort()[-10:]]  # last 10 are most important\n",
        "    print(\"Topic {}: {}\".format(i + 1, \", \".join(top_words)))"
      ],
      "metadata": {
        "colab": {
          "base_uri": "https://localhost:8080/"
        },
        "id": "JSF7e7_4Jk3z",
        "outputId": "8b1da283-0751-4638-c74c-938cccacf293"
      },
      "execution_count": 23,
      "outputs": [
        {
          "output_type": "stream",
          "name": "stdout",
          "text": [
            "Topic 1: afl, andrew, smith, james, david, john, nrl, michael, extended, interview\n",
            "Topic 2: arrest, say, seek, officer, hunt, missing, search, investigate, probe, police\n",
            "Topic 3: chief, home, centre, deal, hospital, years, year, laws, zealand, new\n",
            "Topic 4: found, attack, stabbing, guilty, arrested, missing, jailed, murder, charged, man\n",
            "Topic 5: group, could, union, opposition, trump, government, report, labor, minister, says\n",
            "Topic 6: rates, backs, mayor, rise, budget, seeks, land, considers, plans, council\n",
            "Topic 7: england, cricket, china, first, india, one, test, south, day, australia\n",
            "Topic 8: season, residents, blaze, ban, threat, school, home, crews, house, fire\n",
            "Topic 9: front, charges, high, faces, case, told, murder, face, accused, court\n",
            "Topic 10: report, act, claims, accused, health, vic, funding, qld, urged, govt\n",
            "Topic 11: first, share, dollar, china, south, wins, year, market, open, australian\n",
            "Topic 12: gold, qld, north, election, government, rural, coast, hour, country, nsw\n",
            "Topic 13: use, call, residents, report, may, supply, farmers, murray, restrictions, water\n",
            "Topic 14: driver, dead, road, fatal, two, woman, killed, car, dies, crash\n",
            "Topic 15: title, gold, first, record, melbourne, final, wins, win, world, cup\n",
            "Topic 16: rises, calls, coroner, call, probe, charged, woman, inquest, toll, death\n",
            "Topic 17: talks, sport, weather, report, market, business, national, rural, news, abc\n",
            "Topic 18: league, harbour, melbourne, shooting, airport, western, found, home, hobart, sydney\n",
            "Topic 19: hit, school, track, top, work, get, home, fight, hits, back\n",
            "Topic 20: murray, housing, hospital, indigenous, call, group, backs, government, health, plan\n"
          ]
        }
      ]
    },
    {
      "cell_type": "code",
      "source": [],
      "metadata": {
        "id": "3To21OzQJnNP"
      },
      "execution_count": null,
      "outputs": []
    }
  ]
}