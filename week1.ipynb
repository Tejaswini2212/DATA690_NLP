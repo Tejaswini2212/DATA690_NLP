{
  "cells": [
    {
      "cell_type": "markdown",
      "metadata": {
        "id": "3zQnNGyHHHUR"
      },
      "source": [
        "1. Which of the following is not an application of NLP?\n",
        "**a. Image labeling**\n",
        "**Image labeling is not an application of NLP.**\n"
      ]
    },
    {
      "cell_type": "markdown",
      "metadata": {
        "id": "442K1uHKHdh8"
      },
      "source": [
        "2. Which of the following is not an NLP task?\n",
        " d. Image segmentation\n",
        "Image segmentation is not an NLP task"
      ]
    },
    {
      "cell_type": "markdown",
      "metadata": {
        "id": "egQPEOWwHady"
      },
      "source": [
        "3. Which of the following is not a disadvantage of rule-based approaches for NLP?\n",
        "c. Requires huge dataset\n",
        "\n"
      ]
    },
    {
      "cell_type": "markdown",
      "metadata": {
        "id": "kxWG1Al0H1gT"
      },
      "source": [
        "4. The two types of NLP approaches are:\n",
        "  Semantic Processing: Process of mapping natural language into a formal representation of its meaning\n",
        "\tBag of Words: Representation of text by the frequency of each word.\n"
      ]
    },
    {
      "cell_type": "markdown",
      "metadata": {
        "id": "z8edkU3iIE3C"
      },
      "source": [
        " 5.Use TextBlob to translate a sentence in English into French, Mandarin, and\n",
        "Hindi?\n",
        "a. Import TextBlob\n",
        "b. Languages are coded as ‘fr’, ‘zh-CN’, ‘hi’\n",
        "c. Translate the following sentence “Who knew translation could be fun” into\n",
        "French, Mandarin, and Hindi"
      ]
    },
    {
      "cell_type": "code",
      "execution_count": 1,
      "metadata": {
        "colab": {
          "base_uri": "https://localhost:8080/"
        },
        "id": "IgaHbY_EDrTc",
        "outputId": "d7295d30-e7d4-43cf-e621-29e697faf9ee"
      },
      "outputs": [
        {
          "name": "stdout",
          "output_type": "stream",
          "text": [
            "Requirement already satisfied: textblob in /usr/local/lib/python3.11/dist-packages (0.19.0)\n",
            "Requirement already satisfied: nltk>=3.9 in /usr/local/lib/python3.11/dist-packages (from textblob) (3.9.1)\n",
            "Requirement already satisfied: click in /usr/local/lib/python3.11/dist-packages (from nltk>=3.9->textblob) (8.1.8)\n",
            "Requirement already satisfied: joblib in /usr/local/lib/python3.11/dist-packages (from nltk>=3.9->textblob) (1.4.2)\n",
            "Requirement already satisfied: regex>=2021.8.3 in /usr/local/lib/python3.11/dist-packages (from nltk>=3.9->textblob) (2024.11.6)\n",
            "Requirement already satisfied: tqdm in /usr/local/lib/python3.11/dist-packages (from nltk>=3.9->textblob) (4.67.1)\n"
          ]
        }
      ],
      "source": [
        "!pip install textblob"
      ]
    },
    {
      "cell_type": "code",
      "execution_count": 2,
      "metadata": {
        "id": "ovVrBryuDsiu"
      },
      "outputs": [],
      "source": [
        "from textblob import TextBlob"
      ]
    },
    {
      "cell_type": "code",
      "execution_count": 3,
      "metadata": {
        "colab": {
          "base_uri": "https://localhost:8080/"
        },
        "id": "-uND6Dy1E5G7",
        "outputId": "51169d84-cc21-4291-b309-43594caadb8f"
      },
      "outputs": [
        {
          "name": "stdout",
          "output_type": "stream",
          "text": [
            "Requirement already satisfied: textblob in /usr/local/lib/python3.11/dist-packages (0.19.0)\n",
            "Requirement already satisfied: googletrans==4.0.0-rc1 in /usr/local/lib/python3.11/dist-packages (4.0.0rc1)\n",
            "Requirement already satisfied: httpx==0.13.3 in /usr/local/lib/python3.11/dist-packages (from googletrans==4.0.0-rc1) (0.13.3)\n",
            "Requirement already satisfied: certifi in /usr/local/lib/python3.11/dist-packages (from httpx==0.13.3->googletrans==4.0.0-rc1) (2025.1.31)\n",
            "Requirement already satisfied: hstspreload in /usr/local/lib/python3.11/dist-packages (from httpx==0.13.3->googletrans==4.0.0-rc1) (2025.1.1)\n",
            "Requirement already satisfied: sniffio in /usr/local/lib/python3.11/dist-packages (from httpx==0.13.3->googletrans==4.0.0-rc1) (1.3.1)\n",
            "Requirement already satisfied: chardet==3.* in /usr/local/lib/python3.11/dist-packages (from httpx==0.13.3->googletrans==4.0.0-rc1) (3.0.4)\n",
            "Requirement already satisfied: idna==2.* in /usr/local/lib/python3.11/dist-packages (from httpx==0.13.3->googletrans==4.0.0-rc1) (2.10)\n",
            "Requirement already satisfied: rfc3986<2,>=1.3 in /usr/local/lib/python3.11/dist-packages (from httpx==0.13.3->googletrans==4.0.0-rc1) (1.5.0)\n",
            "Requirement already satisfied: httpcore==0.9.* in /usr/local/lib/python3.11/dist-packages (from httpx==0.13.3->googletrans==4.0.0-rc1) (0.9.1)\n",
            "Requirement already satisfied: h11<0.10,>=0.8 in /usr/local/lib/python3.11/dist-packages (from httpcore==0.9.*->httpx==0.13.3->googletrans==4.0.0-rc1) (0.9.0)\n",
            "Requirement already satisfied: h2==3.* in /usr/local/lib/python3.11/dist-packages (from httpcore==0.9.*->httpx==0.13.3->googletrans==4.0.0-rc1) (3.2.0)\n",
            "Requirement already satisfied: hyperframe<6,>=5.2.0 in /usr/local/lib/python3.11/dist-packages (from h2==3.*->httpcore==0.9.*->httpx==0.13.3->googletrans==4.0.0-rc1) (5.2.0)\n",
            "Requirement already satisfied: hpack<4,>=3.0 in /usr/local/lib/python3.11/dist-packages (from h2==3.*->httpcore==0.9.*->httpx==0.13.3->googletrans==4.0.0-rc1) (3.0.0)\n",
            "Requirement already satisfied: nltk>=3.9 in /usr/local/lib/python3.11/dist-packages (from textblob) (3.9.1)\n",
            "Requirement already satisfied: click in /usr/local/lib/python3.11/dist-packages (from nltk>=3.9->textblob) (8.1.8)\n",
            "Requirement already satisfied: joblib in /usr/local/lib/python3.11/dist-packages (from nltk>=3.9->textblob) (1.4.2)\n",
            "Requirement already satisfied: regex>=2021.8.3 in /usr/local/lib/python3.11/dist-packages (from nltk>=3.9->textblob) (2024.11.6)\n",
            "Requirement already satisfied: tqdm in /usr/local/lib/python3.11/dist-packages (from nltk>=3.9->textblob) (4.67.1)\n"
          ]
        }
      ],
      "source": [
        "!pip install textblob googletrans==4.0.0-rc1"
      ]
    },
    {
      "cell_type": "code",
      "execution_count": 4,
      "metadata": {
        "id": "CBvePRE0D1rf"
      },
      "outputs": [],
      "source": [
        "sentence=\"Who knew translation could be fun\""
      ]
    },
    {
      "cell_type": "code",
      "execution_count": 5,
      "metadata": {
        "id": "LbR1XzQDD7Z1"
      },
      "outputs": [],
      "source": [
        "blob_fr=TextBlob(sentence)"
      ]
    },
    {
      "cell_type": "code",
      "execution_count": 6,
      "metadata": {
        "colab": {
          "base_uri": "https://localhost:8080/",
          "height": 141
        },
        "id": "QdVXAHxZD_0L",
        "outputId": "b00022ce-15e7-4395-a05d-9ba869a825f0"
      },
      "outputs": [
        {
          "ename": "AttributeError",
          "evalue": "'TextBlob' object has no attribute 'translate'",
          "output_type": "error",
          "traceback": [
            "\u001b[0;31m---------------------------------------------------------------------------\u001b[0m",
            "\u001b[0;31mAttributeError\u001b[0m                            Traceback (most recent call last)",
            "\u001b[0;32m<ipython-input-6-87cda02c04d8>\u001b[0m in \u001b[0;36m<cell line: 0>\u001b[0;34m()\u001b[0m\n\u001b[0;32m----> 1\u001b[0;31m \u001b[0mtranslated_fr\u001b[0m\u001b[0;34m=\u001b[0m\u001b[0mblob_fr\u001b[0m\u001b[0;34m.\u001b[0m\u001b[0mtranslate\u001b[0m\u001b[0;34m(\u001b[0m\u001b[0mto\u001b[0m\u001b[0;34m=\u001b[0m\u001b[0;34m'fr'\u001b[0m\u001b[0;34m)\u001b[0m\u001b[0;34m\u001b[0m\u001b[0;34m\u001b[0m\u001b[0m\n\u001b[0m",
            "\u001b[0;31mAttributeError\u001b[0m: 'TextBlob' object has no attribute 'translate'"
          ]
        }
      ],
      "source": [
        "translated_fr=blob_fr.translate(to='fr')"
      ]
    },
    {
      "cell_type": "code",
      "execution_count": null,
      "metadata": {
        "id": "Mf-yc-jOEgam"
      },
      "outputs": [],
      "source": [
        "!pip install --upgrade textblob"
      ]
    },
    {
      "cell_type": "code",
      "execution_count": 22,
      "metadata": {
        "id": "pmZe4bivENyR"
      },
      "outputs": [],
      "source": [
        "from googletrans import Translator\n",
        "Translator=Translator()\n",
        "\n",
        "sentence=\"Who knew translation could be fun\""
      ]
    },
    {
      "cell_type": "code",
      "execution_count": 19,
      "metadata": {
        "colab": {
          "base_uri": "https://localhost:8080/"
        },
        "id": "cpvI3zWUGiBU",
        "outputId": "b529bb94-4138-49cb-da8f-3319ef9cee9e"
      },
      "outputs": [
        {
          "name": "stdout",
          "output_type": "stream",
          "text": [
            "Qui savait que la traduction pouvait être amusante\n"
          ]
        }
      ],
      "source": [
        "translated_fr=Translator.translate(sentence,dest='fr')\n",
        "print(translated_fr.text)"
      ]
    },
    {
      "cell_type": "code",
      "execution_count": 20,
      "metadata": {
        "colab": {
          "base_uri": "https://localhost:8080/"
        },
        "id": "MpTJnQHoGxkx",
        "outputId": "48e904bc-b7e2-448e-d2b7-913ac6243573"
      },
      "outputs": [
        {
          "name": "stdout",
          "output_type": "stream",
          "text": [
            "谁知道翻译可能很有趣\n"
          ]
        }
      ],
      "source": [
        "translated_fr=Translator.translate(sentence,dest='zh-CN')\n",
        "print(translated_fr.text)"
      ]
    },
    {
      "cell_type": "code",
      "execution_count": 21,
      "metadata": {
        "colab": {
          "base_uri": "https://localhost:8080/"
        },
        "id": "FwfW36kbG8XE",
        "outputId": "2f9b48a7-49dc-46b9-d263-d158610c81c9"
      },
      "outputs": [
        {
          "name": "stdout",
          "output_type": "stream",
          "text": [
            "कौन जानता था कि अनुवाद मजेदार हो सकता है\n"
          ]
        }
      ],
      "source": [
        "translated_fr=Translator.translate(sentence,dest='hi')\n",
        "print(translated_fr.text)"
      ]
    },
    {
      "cell_type": "markdown",
      "metadata": {
        "id": "m6mAsUxkINcq"
      },
      "source": [
        "Textblob is not working so i used Googletrans"
      ]
    },
    {
      "cell_type": "code",
      "execution_count": null,
      "metadata": {
        "id": "mWHHjlYOF1Vp"
      },
      "outputs": [],
      "source": []
    }
  ],
  "metadata": {
    "colab": {
      "provenance": []
    },
    "kernelspec": {
      "display_name": "Python 3",
      "name": "python3"
    },
    "language_info": {
      "name": "python"
    }
  },
  "nbformat": 4,
  "nbformat_minor": 0
}
