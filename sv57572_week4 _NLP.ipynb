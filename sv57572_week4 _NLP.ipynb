{
  "nbformat": 4,
  "nbformat_minor": 0,
  "metadata": {
    "colab": {
      "provenance": []
    },
    "kernelspec": {
      "name": "python3",
      "display_name": "Python 3"
    },
    "language_info": {
      "name": "python"
    }
  },
  "cells": [
    {
      "cell_type": "markdown",
      "source": [
        "Exercise 1. Sentiment Analysis\n",
        "\n"
      ],
      "metadata": {
        "id": "J9lR9KUmtJF2"
      }
    },
    {
      "cell_type": "code",
      "source": [
        "import torch\n",
        "import torch.nn as nn\n",
        "import torch.optim as optim\n",
        "import numpy as np\n",
        "import pandas as pd\n",
        "import string\n",
        "import matplotlib.pyplot as plt\n",
        "from collections import Counter\n",
        "from sklearn.model_selection import train_test_split\n",
        "from torch.utils.data import DataLoader, Dataset\n",
        "from torch.optim.lr_scheduler import ReduceLROnPlateau\n"
      ],
      "metadata": {
        "id": "7cCqhrw5eDOe"
      },
      "execution_count": 13,
      "outputs": []
    },
    {
      "cell_type": "code",
      "source": [
        "# Loading dataset\n",
        "def load_data(url):\n",
        "    df = pd.read_csv(url, sep='\\t', header=None, names=['review', 'label'])\n",
        "    return df\n",
        "\n",
        "data_url = \"amazon_cells_labelled.txt\"\n",
        "df = load_data(data_url)"
      ],
      "metadata": {
        "id": "x5E6WphkeGGj"
      },
      "execution_count": 65,
      "outputs": []
    },
    {
      "cell_type": "code",
      "source": [
        "# Preprocessing the data\n",
        "def preprocess_text(text):\n",
        "    text = text.lower()\n",
        "    text = text.translate(str.maketrans('', '', string.punctuation))\n",
        "    return text\n",
        "\n",
        "df['review'] = df['review'].apply(preprocess_text)"
      ],
      "metadata": {
        "id": "ldx-ghb8eI4B"
      },
      "execution_count": 66,
      "outputs": []
    },
    {
      "cell_type": "code",
      "source": [
        "# Creating vocabulary and word-to-index mapping\n",
        "all_words = ' '.join(df['review']).split()\n",
        "word_counts = Counter(all_words)\n",
        "vocab = sorted(word_counts, key=word_counts.get, reverse=True)\n",
        "word_to_int = {word: i+1 for i, word in enumerate(vocab)}\n",
        "\n",
        "# Encoding reviews\n",
        "def encode_review(review):\n",
        "    return [word_to_int[word] for word in review.split() if word in word_to_int]\n",
        "\n",
        "df['encoded'] = df['review'].apply(encode_review)"
      ],
      "metadata": {
        "id": "X6IbEyQReNLJ"
      },
      "execution_count": 68,
      "outputs": []
    },
    {
      "cell_type": "code",
      "source": [
        "# Padding sequences\n",
        "def pad_sequences(encoded_reviews, seq_length=100):\n",
        "    features = np.zeros((len(encoded_reviews), seq_length), dtype=int)\n",
        "    for i, review in enumerate(encoded_reviews):\n",
        "        features[i, -len(review):] = review[:seq_length]\n",
        "    return features\n",
        "\n",
        "seq_length = 100\n",
        "X = pad_sequences(df['encoded'], seq_length)\n",
        "y = np.array(df['label'])\n"
      ],
      "metadata": {
        "id": "Mtip9XpAeQRx"
      },
      "execution_count": 69,
      "outputs": []
    },
    {
      "cell_type": "code",
      "source": [
        "# Splitting dataset\n",
        "X_train, X_test, y_train, y_test = train_test_split(X, y, test_size=0.2, random_state=42)\n",
        "X_train, X_val, y_train, y_val = train_test_split(X_train, y_train, test_size=0.1, random_state=42)"
      ],
      "metadata": {
        "id": "3514JgA4eSmk"
      },
      "execution_count": 70,
      "outputs": []
    },
    {
      "cell_type": "code",
      "source": [
        "# Creating Dataset class\n",
        "class SentimentDataset(Dataset):\n",
        "    def __init__(self, X, y):\n",
        "        self.X = torch.tensor(X, dtype=torch.long)\n",
        "        self.y = torch.tensor(y, dtype=torch.float32)\n",
        "\n",
        "    def __len__(self):\n",
        "        return len(self.X)\n",
        "\n",
        "    def __getitem__(self, idx):\n",
        "        return self.X[idx], self.y[idx]"
      ],
      "metadata": {
        "id": "Sg6zmqiWeWpN"
      },
      "execution_count": 19,
      "outputs": []
    },
    {
      "cell_type": "code",
      "source": [
        "train_data = SentimentDataset(X_train, y_train)\n",
        "val_data = SentimentDataset(X_val, y_val)\n",
        "test_data = SentimentDataset(X_test, y_test)\n",
        "\n",
        "train_loader = DataLoader(train_data, batch_size=32, shuffle=True)\n",
        "val_loader = DataLoader(val_data, batch_size=32, shuffle=False)\n",
        "test_loader = DataLoader(test_data, batch_size=32, shuffle=False)"
      ],
      "metadata": {
        "id": "9guT04nDeZH8"
      },
      "execution_count": 20,
      "outputs": []
    },
    {
      "cell_type": "code",
      "source": [
        "class SentimentLSTM(nn.Module):\n",
        "    def __init__(self, vocab_size, embedding_dim=64, hidden_dim=128, n_layers=3, dropout=0.8):\n",
        "        super(SentimentLSTM, self).__init__()\n",
        "        self.embedding = nn.Embedding(vocab_size, embedding_dim)\n",
        "        self.batch_norm = nn.BatchNorm1d(embedding_dim)\n",
        "        self.lstm = nn.LSTM(embedding_dim, hidden_dim, n_layers, batch_first=True, dropout=dropout)\n",
        "        self.fc = nn.Linear(hidden_dim, 1)\n",
        "        self.sigmoid = nn.Sigmoid()\n",
        "\n",
        "    def forward(self, x):\n",
        "        x = self.embedding(x)\n",
        "        x = x.transpose(1, 2)\n",
        "        x = self.batch_norm(x)\n",
        "        x = x.transpose(1, 2)\n",
        "        lstm_out, _ = self.lstm(x)\n",
        "        out = self.fc(lstm_out[:, -1, :])\n",
        "        return self.sigmoid(out)"
      ],
      "metadata": {
        "id": "CF2WuDbOecCk"
      },
      "execution_count": 21,
      "outputs": []
    },
    {
      "cell_type": "code",
      "source": [
        "# Model\n",
        "vocab_size = len(word_to_int) + 1\n",
        "model = SentimentLSTM(vocab_size)\n",
        "\n",
        "# Defining loss function, optimizer, and training loop\n",
        "criterion = nn.BCELoss()\n",
        "optimizer = optim.Adam(model.parameters(), lr=0.0005, weight_decay=1e-5)\n",
        "epochs = 10\n",
        "\n",
        "def evaluate_validation_loss():\n",
        "    model.eval()\n",
        "    total_loss = 0\n",
        "    with torch.no_grad():\n",
        "        for inputs, labels in val_loader:\n",
        "            outputs = model(inputs).squeeze()\n",
        "            loss = criterion(outputs, labels)\n",
        "            total_loss += loss.item()\n",
        "    return total_loss / len(val_loader)\n",
        "\n",
        "scheduler = ReduceLROnPlateau(optimizer, 'min', patience=3, factor=0.8)"
      ],
      "metadata": {
        "id": "nZmunM2Oee3w"
      },
      "execution_count": 22,
      "outputs": []
    },
    {
      "cell_type": "code",
      "source": [
        "def train_model():\n",
        "    best_val_loss = float('inf')\n",
        "    patience = 3\n",
        "    patience_counter = 0\n",
        "    train_losses, accuracies = [], []\n",
        "\n",
        "    for epoch in range(epochs):\n",
        "        model.train()\n",
        "        total_loss, correct, total = 0, 0, 0\n",
        "\n",
        "        for inputs, labels in train_loader:\n",
        "            optimizer.zero_grad()\n",
        "            outputs = model(inputs).squeeze()\n",
        "            loss = criterion(outputs, labels)\n",
        "            loss.backward()\n",
        "            optimizer.step()\n",
        "\n",
        "            total_loss += loss.item()\n",
        "            predictions = (outputs >= 0.5).float()\n",
        "            correct += (predictions == labels).sum().item()\n",
        "            total += labels.size(0)\n",
        "\n",
        "        avg_loss = total_loss / len(train_loader)\n",
        "        accuracy = correct / total\n",
        "        train_losses.append(avg_loss)\n",
        "        accuracies.append(accuracy)\n",
        "\n",
        "        val_loss = evaluate_validation_loss()\n",
        "        print(f\"Epoch {epoch+1}/{epochs}, Loss: {avg_loss:.4f}, Accuracy: {accuracy:.4f}, Val Loss: {val_loss:.4f}\")\n",
        "\n",
        "\n",
        "        scheduler.step(val_loss)\n",
        "\n",
        "        if val_loss < best_val_loss:\n",
        "            best_val_loss = val_loss\n",
        "            patience_counter = 0\n",
        "        else:\n",
        "            patience_counter += 1\n",
        "\n",
        "        if patience_counter >= patience:\n",
        "            print(\"Early stopping triggered!\")\n",
        "            break\n",
        "\n",
        "    return train_losses, accuracies\n",
        "\n",
        "losses, accs = train_model()"
      ],
      "metadata": {
        "colab": {
          "base_uri": "https://localhost:8080/"
        },
        "id": "2jRZg8tEei7N",
        "outputId": "2e5651c7-5a80-44eb-84c2-cbaf6f40cbc3"
      },
      "execution_count": 27,
      "outputs": [
        {
          "output_type": "stream",
          "name": "stdout",
          "text": [
            "Epoch 1/10, Loss: 0.3303, Accuracy: 0.8569, Val Loss: 0.8401\n",
            "Epoch 2/10, Loss: 0.2586, Accuracy: 0.9014, Val Loss: 0.8880\n",
            "Epoch 3/10, Loss: 0.2368, Accuracy: 0.9042, Val Loss: 0.7781\n",
            "Epoch 4/10, Loss: 0.1921, Accuracy: 0.9361, Val Loss: 1.0248\n",
            "Epoch 5/10, Loss: 0.1757, Accuracy: 0.9319, Val Loss: 0.9905\n",
            "Epoch 6/10, Loss: 0.1438, Accuracy: 0.9472, Val Loss: 1.0739\n",
            "Early stopping triggered!\n"
          ]
        }
      ]
    },
    {
      "cell_type": "code",
      "execution_count": 28,
      "metadata": {
        "colab": {
          "base_uri": "https://localhost:8080/",
          "height": 487
        },
        "id": "70zqLot8ZXLX",
        "outputId": "73cc4b28-bd34-4da2-9219-e5afdf6b7696"
      },
      "outputs": [
        {
          "output_type": "display_data",
          "data": {
            "text/plain": [
              "<Figure size 1000x500 with 2 Axes>"
            ],
            "image/png": "[encoded data removed]"
          },
          "metadata": {}
        }
      ],
      "source": [
        "# Plotting the results\n",
        "plt.figure(figsize=(10, 5))\n",
        "plt.subplot(1, 2, 1)\n",
        "plt.plot(losses, label='Loss')\n",
        "plt.title('Training Loss')\n",
        "plt.xlabel('Epochs')\n",
        "plt.ylabel('Loss')\n",
        "plt.legend()\n",
        "\n",
        "plt.subplot(1, 2, 2)\n",
        "plt.plot(accs, label='Accuracy', color='orange')\n",
        "plt.title('Training Accuracy')\n",
        "plt.xlabel('Epochs')\n",
        "plt.ylabel('Accuracy')\n",
        "plt.legend()\n",
        "\n",
        "plt.show()\n"
      ]
    },
    {
      "cell_type": "code",
      "source": [
        "def evaluate_model():\n",
        "    model.eval()\n",
        "    total_loss, correct, total = 0, 0, 0\n",
        "    with torch.no_grad():\n",
        "        for inputs, labels in test_loader:\n",
        "            outputs = model(inputs).squeeze()\n",
        "            loss = criterion(outputs, labels)\n",
        "            total_loss += loss.item()\n",
        "\n",
        "            predictions = (outputs >= 0.5).float()\n",
        "            correct += (predictions == labels).sum().item()\n",
        "            total += labels.size(0)\n",
        "\n",
        "    avg_loss = total_loss / len(test_loader)\n",
        "    accuracy = correct / total\n",
        "    print(f\"Test Loss: {avg_loss:.4f}, Test Accuracy: {accuracy:.4f}\")\n",
        "\n",
        "evaluate_model()\n"
      ],
      "metadata": {
        "colab": {
          "base_uri": "https://localhost:8080/"
        },
        "id": "_qnXPwgQZeOl",
        "outputId": "138e33b3-a6ce-4868-bc18-da710b224662"
      },
      "execution_count": 29,
      "outputs": [
        {
          "output_type": "stream",
          "name": "stdout",
          "text": [
            "Test Loss: 1.1780, Test Accuracy: 0.7350\n"
          ]
        }
      ]
    },
    {
      "cell_type": "markdown",
      "source": [
        "Exercise 2. Sentiment Analysis\n"
      ],
      "metadata": {
        "id": "El2PlmQhsgOP"
      }
    },
    {
      "cell_type": "code",
      "source": [
        "import re\n",
        "from nltk.corpus import stopwords\n",
        "from nltk.tokenize import word_tokenize\n",
        "from nltk.stem import PorterStemmer\n",
        "from nltk import pos_tag\n",
        "from textblob import TextBlob\n",
        "\n",
        "# text\n",
        "sentence = \"\"\"The larger Broncos will be available with 35-inch off-road tires and will be able\n",
        "to drive through water nearly 3 feet, 10 inches deep. It has independent front suspension, unlike its main competitor, the Jeep Wrangler. Independent suspension, used\n",
        "on almost all modern passenger vehicles, generally provides a smoother ride and better on -road handling than a single solid axle. It still has a solid axle in the back though, like most\n",
        "pickup trucks, a design suited to hard use. Like the Wrangler, both the two- and four-door\n",
        "Bronco will have a removable roofs and doors. Buyers will be able to choose either a hard\n",
        "roof that can be removed in sections, a cloth top, or both. Unlike the Wrangler, though, the\n",
        "Bronco's doors will fit inside the vehicle after being removed. The Bronco will be available\n",
        "with a choice of either a 10-speed automatic or seven-speed manual transmission. (The\n",
        "manual transmission will have six gears for ordinary driving, plus a seventh for low speed\n",
        "off-road driving.) It will be powered by either a 270- horsepower 2.3-liter turbocharged 4-\n",
        "cylinder engine or a 310-horsepower 2.7-liter turbocharged V6. While all of the new Bronco\n",
        "SUVs are designed for hard off-road use, the Bronco Sport isn't quite as hard-core in its\n",
        "capabilities. It also has more convenience features than the more truck-like Bronco. While\n",
        "it's based on engineering that's similar to car-like crossover SUVs, Ford says that it's still\n",
        "intended for serious off-road use. Ford engineers boasted of the off-road testing the\n",
        "prototypes have been put through, including driving through deep sand, up steep inclines ,\n",
        "and crawling across boulder-strewn trails.\"\"\"\n",
        "\n",
        "\n",
        "\n"
      ],
      "metadata": {
        "id": "rwMHhtikiN8B"
      },
      "execution_count": 59,
      "outputs": []
    },
    {
      "cell_type": "code",
      "source": [
        "sentence_cleaned = re.sub(r'[^a-zA-Z0-9\\s]', ' ', sentence)  # Removing special characters\n",
        "sentence_cleaned = re.sub(r'\\s+', ' ', sentence_cleaned)    # Replacing multiple spaces with a single space\n",
        "sentence_cleaned = re.sub(r'\\b\\w\\b', '', sentence_cleaned)   # Removing single characters\n",
        "sentence_cleaned = sentence_cleaned.strip().lower()         # Converting to lowercase and strip\n",
        "\n",
        "# Displaying the cleaned sentence\n",
        "print(sentence_cleaned)"
      ],
      "metadata": {
        "colab": {
          "base_uri": "https://localhost:8080/"
        },
        "id": "sISdIZ7-rHk-",
        "outputId": "28e4c987-7bdf-45ee-f169-3cd112bc73aa"
      },
      "execution_count": 64,
      "outputs": [
        {
          "output_type": "stream",
          "name": "stdout",
          "text": [
            "the larger broncos will be available with 35 inch off road tires and will be able to drive through water nearly  feet 10 inches deep it has independent front suspension unlike its main competitor the jeep wrangler independent suspension used on almost all modern passenger vehicles generally provides  smoother ride and better on road handling than  single solid axle it still has  solid axle in the back though like most pickup trucks  design suited to hard use like the wrangler both the two and four door bronco will have  removable roofs and doors buyers will be able to choose either  hard roof that can be removed in sections  cloth top or both unlike the wrangler though the bronco  doors will fit inside the vehicle after being removed the bronco will be available with  choice of either  10 speed automatic or seven speed manual transmission the manual transmission will have six gears for ordinary driving plus  seventh for low speed off road driving it will be powered by either  270 horsepower   liter turbocharged  cylinder engine or  310 horsepower   liter turbocharged v6 while all of the new bronco suvs are designed for hard off road use the bronco sport isn  quite as hard core in its capabilities it also has more convenience features than the more truck like bronco while it  based on engineering that  similar to car like crossover suvs ford says that it  still intended for serious off road use ford engineers boasted of the off road testing the prototypes have been put through including driving through deep sand up steep inclines and crawling across boulder strewn trails\n"
          ]
        }
      ]
    },
    {
      "cell_type": "code",
      "source": [
        "import nltk\n",
        "nltk.download('stopwords')\n",
        "from nltk.corpus import stopwords\n",
        "\n",
        "# Loading stopwords\n",
        "stop_words = set(stopwords.words('english'))\n",
        "\n",
        "# Splittig the cleaned sentence into words\n",
        "words = sentence_cleaned.split()\n",
        "\n",
        "# Removing the stopwords\n",
        "words_filtered = [word for word in words if word not in stop_words]\n",
        "\n",
        "# Displaying the filtered words\n",
        "print(words_filtered)"
      ],
      "metadata": {
        "colab": {
          "base_uri": "https://localhost:8080/"
        },
        "id": "GPDDNCLwiSds",
        "outputId": "748e8a8c-bf3f-42fb-e0cb-ed8d25dc9cc1"
      },
      "execution_count": 47,
      "outputs": [
        {
          "output_type": "stream",
          "name": "stdout",
          "text": [
            "['larger', 'broncos', 'available', '35', 'inch', 'road', 'tires', 'able', 'drive', 'water', 'nearly', 'feet', '10', 'inches', 'deep', 'independent', 'front', 'suspension', 'unlike', 'main', 'competitor', 'jeep', 'wrangler', 'independent', 'suspension', 'used', 'almost', 'modern', 'passenger', 'vehicles', 'generally', 'provides', 'smoother', 'ride', 'better', 'road', 'handling', 'single', 'solid', 'axle', 'still', 'solid', 'axle', 'back', 'though', 'like', 'pickup', 'trucks', 'design', 'suited', 'hard', 'use', 'like', 'wrangler', 'two', 'four', 'door', 'bronco', 'removable', 'roofs', 'doors', 'buyers', 'able', 'choose', 'either', 'hard', 'roof', 'removed', 'sections', 'cloth', 'top', 'unlike', 'wrangler', 'though', 'bronco', 'doors', 'fit', 'inside', 'vehicle', 'removed', 'bronco', 'available', 'choice', 'either', '10', 'speed', 'automatic', 'seven', 'speed', 'manual', 'transmission', 'manual', 'transmission', 'six', 'gears', 'ordinary', 'driving', 'plus', 'seventh', 'low', 'speed', 'road', 'driving', 'powered', 'either', '270', 'horsepower', 'liter', 'turbocharged', 'cylinder', 'engine', '310', 'horsepower', 'liter', 'turbocharged', 'v6', 'new', 'bronco', 'suvs', 'designed', 'hard', 'road', 'use', 'bronco', 'sport', 'quite', 'hard', 'core', 'capabilities', 'also', 'convenience', 'features', 'truck', 'like', 'bronco', 'based', 'engineering', 'similar', 'car', 'like', 'crossover', 'suvs', 'ford', 'says', 'still', 'intended', 'serious', 'road', 'use', 'ford', 'engineers', 'boasted', 'road', 'testing', 'prototypes', 'put', 'including', 'driving', 'deep', 'sand', 'steep', 'inclines', 'crawling', 'across', 'boulder', 'strewn', 'trails']\n"
          ]
        },
        {
          "output_type": "stream",
          "name": "stderr",
          "text": [
            "[nltk_data] Downloading package stopwords to /root/nltk_data...\n",
            "[nltk_data]   Unzipping corpora/stopwords.zip.\n"
          ]
        }
      ]
    },
    {
      "cell_type": "code",
      "source": [
        "stemmer = PorterStemmer()"
      ],
      "metadata": {
        "id": "7FcIxuccggqL"
      },
      "execution_count": 58,
      "outputs": []
    },
    {
      "cell_type": "code",
      "source": [
        "# Stemming\n",
        "words_stemmed = [stemmer.stem(word) for word in words_filtered]"
      ],
      "metadata": {
        "id": "Fg-If6gNgi0h"
      },
      "execution_count": 49,
      "outputs": []
    },
    {
      "cell_type": "code",
      "source": [
        "# Lemmatization\n",
        "import nltk\n",
        "nltk.download('wordnet')\n",
        "from nltk.stem import WordNetLemmatizer\n"
      ],
      "metadata": {
        "colab": {
          "base_uri": "https://localhost:8080/"
        },
        "id": "feHRa0m_f8VM",
        "outputId": "4d729088-70ae-42e3-cd29-3fedf167e2ab"
      },
      "execution_count": 52,
      "outputs": [
        {
          "output_type": "stream",
          "name": "stderr",
          "text": [
            "[nltk_data] Downloading package wordnet to /root/nltk_data...\n",
            "[nltk_data]   Package wordnet is already up-to-date!\n"
          ]
        }
      ]
    },
    {
      "cell_type": "code",
      "source": [
        "lemmatizer = WordNetLemmatizer()\n",
        "words_lemmatized = [lemmatizer.lemmatize(word) for word in words_filtered]"
      ],
      "metadata": {
        "id": "Zk5mEQCjqTI3"
      },
      "execution_count": 53,
      "outputs": []
    },
    {
      "cell_type": "code",
      "source": [
        "# Sentiment analysis\n",
        "blob = TextBlob(' '.join(words_lemmatized))\n",
        "sentiment = blob.sentiment"
      ],
      "metadata": {
        "id": "mrD853DeglxK"
      },
      "execution_count": 56,
      "outputs": []
    },
    {
      "cell_type": "code",
      "source": [
        "# Printing the Results\n",
        "words_filtered, words_stemmed, words_lemmatized"
      ],
      "metadata": {
        "colab": {
          "base_uri": "https://localhost:8080/"
        },
        "id": "ryjNkAnfgnZ7",
        "outputId": "094f542d-4c0c-49f9-884f-a36d41d1767a"
      },
      "execution_count": 63,
      "outputs": [
        {
          "output_type": "execute_result",
          "data": {
            "text/plain": [
              "(['larger',\n",
              "  'broncos',\n",
              "  'available',\n",
              "  '35',\n",
              "  'inch',\n",
              "  'road',\n",
              "  'tires',\n",
              "  'able',\n",
              "  'drive',\n",
              "  'water',\n",
              "  'nearly',\n",
              "  'feet',\n",
              "  '10',\n",
              "  'inches',\n",
              "  'deep',\n",
              "  'independent',\n",
              "  'front',\n",
              "  'suspension',\n",
              "  'unlike',\n",
              "  'main',\n",
              "  'competitor',\n",
              "  'jeep',\n",
              "  'wrangler',\n",
              "  'independent',\n",
              "  'suspension',\n",
              "  'used',\n",
              "  'almost',\n",
              "  'modern',\n",
              "  'passenger',\n",
              "  'vehicles',\n",
              "  'generally',\n",
              "  'provides',\n",
              "  'smoother',\n",
              "  'ride',\n",
              "  'better',\n",
              "  'road',\n",
              "  'handling',\n",
              "  'single',\n",
              "  'solid',\n",
              "  'axle',\n",
              "  'still',\n",
              "  'solid',\n",
              "  'axle',\n",
              "  'back',\n",
              "  'though',\n",
              "  'like',\n",
              "  'pickup',\n",
              "  'trucks',\n",
              "  'design',\n",
              "  'suited',\n",
              "  'hard',\n",
              "  'use',\n",
              "  'like',\n",
              "  'wrangler',\n",
              "  'two',\n",
              "  'four',\n",
              "  'door',\n",
              "  'bronco',\n",
              "  'removable',\n",
              "  'roofs',\n",
              "  'doors',\n",
              "  'buyers',\n",
              "  'able',\n",
              "  'choose',\n",
              "  'either',\n",
              "  'hard',\n",
              "  'roof',\n",
              "  'removed',\n",
              "  'sections',\n",
              "  'cloth',\n",
              "  'top',\n",
              "  'unlike',\n",
              "  'wrangler',\n",
              "  'though',\n",
              "  'bronco',\n",
              "  'doors',\n",
              "  'fit',\n",
              "  'inside',\n",
              "  'vehicle',\n",
              "  'removed',\n",
              "  'bronco',\n",
              "  'available',\n",
              "  'choice',\n",
              "  'either',\n",
              "  '10',\n",
              "  'speed',\n",
              "  'automatic',\n",
              "  'seven',\n",
              "  'speed',\n",
              "  'manual',\n",
              "  'transmission',\n",
              "  'manual',\n",
              "  'transmission',\n",
              "  'six',\n",
              "  'gears',\n",
              "  'ordinary',\n",
              "  'driving',\n",
              "  'plus',\n",
              "  'seventh',\n",
              "  'low',\n",
              "  'speed',\n",
              "  'road',\n",
              "  'driving',\n",
              "  'powered',\n",
              "  'either',\n",
              "  '270',\n",
              "  'horsepower',\n",
              "  'liter',\n",
              "  'turbocharged',\n",
              "  'cylinder',\n",
              "  'engine',\n",
              "  '310',\n",
              "  'horsepower',\n",
              "  'liter',\n",
              "  'turbocharged',\n",
              "  'v6',\n",
              "  'new',\n",
              "  'bronco',\n",
              "  'suvs',\n",
              "  'designed',\n",
              "  'hard',\n",
              "  'road',\n",
              "  'use',\n",
              "  'bronco',\n",
              "  'sport',\n",
              "  'quite',\n",
              "  'hard',\n",
              "  'core',\n",
              "  'capabilities',\n",
              "  'also',\n",
              "  'convenience',\n",
              "  'features',\n",
              "  'truck',\n",
              "  'like',\n",
              "  'bronco',\n",
              "  'based',\n",
              "  'engineering',\n",
              "  'similar',\n",
              "  'car',\n",
              "  'like',\n",
              "  'crossover',\n",
              "  'suvs',\n",
              "  'ford',\n",
              "  'says',\n",
              "  'still',\n",
              "  'intended',\n",
              "  'serious',\n",
              "  'road',\n",
              "  'use',\n",
              "  'ford',\n",
              "  'engineers',\n",
              "  'boasted',\n",
              "  'road',\n",
              "  'testing',\n",
              "  'prototypes',\n",
              "  'put',\n",
              "  'including',\n",
              "  'driving',\n",
              "  'deep',\n",
              "  'sand',\n",
              "  'steep',\n",
              "  'inclines',\n",
              "  'crawling',\n",
              "  'across',\n",
              "  'boulder',\n",
              "  'strewn',\n",
              "  'trails'],\n",
              " ['larger',\n",
              "  'bronco',\n",
              "  'avail',\n",
              "  '35',\n",
              "  'inch',\n",
              "  'road',\n",
              "  'tire',\n",
              "  'abl',\n",
              "  'drive',\n",
              "  'water',\n",
              "  'nearli',\n",
              "  'feet',\n",
              "  '10',\n",
              "  'inch',\n",
              "  'deep',\n",
              "  'independ',\n",
              "  'front',\n",
              "  'suspens',\n",
              "  'unlik',\n",
              "  'main',\n",
              "  'competitor',\n",
              "  'jeep',\n",
              "  'wrangler',\n",
              "  'independ',\n",
              "  'suspens',\n",
              "  'use',\n",
              "  'almost',\n",
              "  'modern',\n",
              "  'passeng',\n",
              "  'vehicl',\n",
              "  'gener',\n",
              "  'provid',\n",
              "  'smoother',\n",
              "  'ride',\n",
              "  'better',\n",
              "  'road',\n",
              "  'handl',\n",
              "  'singl',\n",
              "  'solid',\n",
              "  'axl',\n",
              "  'still',\n",
              "  'solid',\n",
              "  'axl',\n",
              "  'back',\n",
              "  'though',\n",
              "  'like',\n",
              "  'pickup',\n",
              "  'truck',\n",
              "  'design',\n",
              "  'suit',\n",
              "  'hard',\n",
              "  'use',\n",
              "  'like',\n",
              "  'wrangler',\n",
              "  'two',\n",
              "  'four',\n",
              "  'door',\n",
              "  'bronco',\n",
              "  'remov',\n",
              "  'roof',\n",
              "  'door',\n",
              "  'buyer',\n",
              "  'abl',\n",
              "  'choos',\n",
              "  'either',\n",
              "  'hard',\n",
              "  'roof',\n",
              "  'remov',\n",
              "  'section',\n",
              "  'cloth',\n",
              "  'top',\n",
              "  'unlik',\n",
              "  'wrangler',\n",
              "  'though',\n",
              "  'bronco',\n",
              "  'door',\n",
              "  'fit',\n",
              "  'insid',\n",
              "  'vehicl',\n",
              "  'remov',\n",
              "  'bronco',\n",
              "  'avail',\n",
              "  'choic',\n",
              "  'either',\n",
              "  '10',\n",
              "  'speed',\n",
              "  'automat',\n",
              "  'seven',\n",
              "  'speed',\n",
              "  'manual',\n",
              "  'transmiss',\n",
              "  'manual',\n",
              "  'transmiss',\n",
              "  'six',\n",
              "  'gear',\n",
              "  'ordinari',\n",
              "  'drive',\n",
              "  'plu',\n",
              "  'seventh',\n",
              "  'low',\n",
              "  'speed',\n",
              "  'road',\n",
              "  'drive',\n",
              "  'power',\n",
              "  'either',\n",
              "  '270',\n",
              "  'horsepow',\n",
              "  'liter',\n",
              "  'turbocharg',\n",
              "  'cylind',\n",
              "  'engin',\n",
              "  '310',\n",
              "  'horsepow',\n",
              "  'liter',\n",
              "  'turbocharg',\n",
              "  'v6',\n",
              "  'new',\n",
              "  'bronco',\n",
              "  'suv',\n",
              "  'design',\n",
              "  'hard',\n",
              "  'road',\n",
              "  'use',\n",
              "  'bronco',\n",
              "  'sport',\n",
              "  'quit',\n",
              "  'hard',\n",
              "  'core',\n",
              "  'capabl',\n",
              "  'also',\n",
              "  'conveni',\n",
              "  'featur',\n",
              "  'truck',\n",
              "  'like',\n",
              "  'bronco',\n",
              "  'base',\n",
              "  'engin',\n",
              "  'similar',\n",
              "  'car',\n",
              "  'like',\n",
              "  'crossov',\n",
              "  'suv',\n",
              "  'ford',\n",
              "  'say',\n",
              "  'still',\n",
              "  'intend',\n",
              "  'seriou',\n",
              "  'road',\n",
              "  'use',\n",
              "  'ford',\n",
              "  'engin',\n",
              "  'boast',\n",
              "  'road',\n",
              "  'test',\n",
              "  'prototyp',\n",
              "  'put',\n",
              "  'includ',\n",
              "  'drive',\n",
              "  'deep',\n",
              "  'sand',\n",
              "  'steep',\n",
              "  'inclin',\n",
              "  'crawl',\n",
              "  'across',\n",
              "  'boulder',\n",
              "  'strewn',\n",
              "  'trail'],\n",
              " ['larger',\n",
              "  'bronco',\n",
              "  'available',\n",
              "  '35',\n",
              "  'inch',\n",
              "  'road',\n",
              "  'tire',\n",
              "  'able',\n",
              "  'drive',\n",
              "  'water',\n",
              "  'nearly',\n",
              "  'foot',\n",
              "  '10',\n",
              "  'inch',\n",
              "  'deep',\n",
              "  'independent',\n",
              "  'front',\n",
              "  'suspension',\n",
              "  'unlike',\n",
              "  'main',\n",
              "  'competitor',\n",
              "  'jeep',\n",
              "  'wrangler',\n",
              "  'independent',\n",
              "  'suspension',\n",
              "  'used',\n",
              "  'almost',\n",
              "  'modern',\n",
              "  'passenger',\n",
              "  'vehicle',\n",
              "  'generally',\n",
              "  'provides',\n",
              "  'smoother',\n",
              "  'ride',\n",
              "  'better',\n",
              "  'road',\n",
              "  'handling',\n",
              "  'single',\n",
              "  'solid',\n",
              "  'axle',\n",
              "  'still',\n",
              "  'solid',\n",
              "  'axle',\n",
              "  'back',\n",
              "  'though',\n",
              "  'like',\n",
              "  'pickup',\n",
              "  'truck',\n",
              "  'design',\n",
              "  'suited',\n",
              "  'hard',\n",
              "  'use',\n",
              "  'like',\n",
              "  'wrangler',\n",
              "  'two',\n",
              "  'four',\n",
              "  'door',\n",
              "  'bronco',\n",
              "  'removable',\n",
              "  'roof',\n",
              "  'door',\n",
              "  'buyer',\n",
              "  'able',\n",
              "  'choose',\n",
              "  'either',\n",
              "  'hard',\n",
              "  'roof',\n",
              "  'removed',\n",
              "  'section',\n",
              "  'cloth',\n",
              "  'top',\n",
              "  'unlike',\n",
              "  'wrangler',\n",
              "  'though',\n",
              "  'bronco',\n",
              "  'door',\n",
              "  'fit',\n",
              "  'inside',\n",
              "  'vehicle',\n",
              "  'removed',\n",
              "  'bronco',\n",
              "  'available',\n",
              "  'choice',\n",
              "  'either',\n",
              "  '10',\n",
              "  'speed',\n",
              "  'automatic',\n",
              "  'seven',\n",
              "  'speed',\n",
              "  'manual',\n",
              "  'transmission',\n",
              "  'manual',\n",
              "  'transmission',\n",
              "  'six',\n",
              "  'gear',\n",
              "  'ordinary',\n",
              "  'driving',\n",
              "  'plus',\n",
              "  'seventh',\n",
              "  'low',\n",
              "  'speed',\n",
              "  'road',\n",
              "  'driving',\n",
              "  'powered',\n",
              "  'either',\n",
              "  '270',\n",
              "  'horsepower',\n",
              "  'liter',\n",
              "  'turbocharged',\n",
              "  'cylinder',\n",
              "  'engine',\n",
              "  '310',\n",
              "  'horsepower',\n",
              "  'liter',\n",
              "  'turbocharged',\n",
              "  'v6',\n",
              "  'new',\n",
              "  'bronco',\n",
              "  'suv',\n",
              "  'designed',\n",
              "  'hard',\n",
              "  'road',\n",
              "  'use',\n",
              "  'bronco',\n",
              "  'sport',\n",
              "  'quite',\n",
              "  'hard',\n",
              "  'core',\n",
              "  'capability',\n",
              "  'also',\n",
              "  'convenience',\n",
              "  'feature',\n",
              "  'truck',\n",
              "  'like',\n",
              "  'bronco',\n",
              "  'based',\n",
              "  'engineering',\n",
              "  'similar',\n",
              "  'car',\n",
              "  'like',\n",
              "  'crossover',\n",
              "  'suv',\n",
              "  'ford',\n",
              "  'say',\n",
              "  'still',\n",
              "  'intended',\n",
              "  'serious',\n",
              "  'road',\n",
              "  'use',\n",
              "  'ford',\n",
              "  'engineer',\n",
              "  'boasted',\n",
              "  'road',\n",
              "  'testing',\n",
              "  'prototype',\n",
              "  'put',\n",
              "  'including',\n",
              "  'driving',\n",
              "  'deep',\n",
              "  'sand',\n",
              "  'steep',\n",
              "  'incline',\n",
              "  'crawling',\n",
              "  'across',\n",
              "  'boulder',\n",
              "  'strewn',\n",
              "  'trail'])"
            ]
          },
          "metadata": {},
          "execution_count": 63
        }
      ]
    },
    {
      "cell_type": "code",
      "source": [
        "sentiment"
      ],
      "metadata": {
        "colab": {
          "base_uri": "https://localhost:8080/"
        },
        "id": "o3vsfo90qUgO",
        "outputId": "f271e999-8e30-45af-cbac-6b65d2fbd980"
      },
      "execution_count": 62,
      "outputs": [
        {
          "output_type": "execute_result",
          "data": {
            "text/plain": [
              "Sentiment(polarity=0.07005523212419763, subjectivity=0.3943275115688909)"
            ]
          },
          "metadata": {},
          "execution_count": 62
        }
      ]
    },
    {
      "cell_type": "code",
      "source": [],
      "metadata": {
        "id": "z1BDtRKgsO1r"
      },
      "execution_count": null,
      "outputs": []
    }
  ]
}