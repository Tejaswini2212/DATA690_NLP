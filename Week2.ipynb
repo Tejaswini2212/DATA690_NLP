{
  "nbformat": 4,
  "nbformat_minor": 0,
  "metadata": {
    "colab": {
      "provenance": []
    },
    "kernelspec": {
      "name": "python3",
      "display_name": "Python 3"
    },
    "language_info": {
      "name": "python"
    }
  },
  "cells": [
    {
      "cell_type": "code",
      "execution_count": 1,
      "metadata": {
        "id": "0FnHINUykS-o"
      },
      "outputs": [],
      "source": [
        "import urllib.request\n",
        "from bs4 import BeautifulSoup"
      ]
    },
    {
      "cell_type": "code",
      "source": [
        "#Connecting to the website\n",
        "url = \"https://pythonprogramming.net/parsememcparseface/\"\n",
        "response = urllib.request.urlopen(url)\n"
      ],
      "metadata": {
        "id": "tnM_Sjz7kT1J"
      },
      "execution_count": 2,
      "outputs": []
    },
    {
      "cell_type": "code",
      "source": [
        "# Creating BeautifulSoup object\n",
        "soup = BeautifulSoup(response, \"lxml\")"
      ],
      "metadata": {
        "id": "od73bya_kbKg"
      },
      "execution_count": 3,
      "outputs": []
    },
    {
      "cell_type": "code",
      "source": [
        "# Printting page title\n",
        "print(\"Page Title:\", soup.title.string)"
      ],
      "metadata": {
        "colab": {
          "base_uri": "https://localhost:8080/"
        },
        "id": "qLpkoPfbkgOt",
        "outputId": "101c350f-cac5-41e6-83ce-6252f28cf116"
      },
      "execution_count": 4,
      "outputs": [
        {
          "output_type": "stream",
          "name": "stdout",
          "text": [
            "Page Title: Python Programming Tutorials\n"
          ]
        }
      ]
    },
    {
      "cell_type": "code",
      "source": [
        "#printing attributes and values\n",
        "print(\"Title Attributes:\", soup.title.attrs)"
      ],
      "metadata": {
        "colab": {
          "base_uri": "https://localhost:8080/"
        },
        "id": "AiK9qI7ZkkD1",
        "outputId": "913ed2e1-a4ee-4f13-88c7-b8ba5b0329d0"
      },
      "execution_count": 5,
      "outputs": [
        {
          "output_type": "stream",
          "name": "stdout",
          "text": [
            "Title Attributes: {}\n"
          ]
        }
      ]
    },
    {
      "cell_type": "code",
      "source": [
        "# navigation\n",
        "print(\"First Paragraph:\", soup.p.text)"
      ],
      "metadata": {
        "colab": {
          "base_uri": "https://localhost:8080/"
        },
        "id": "zpjdsZJZko0c",
        "outputId": "3d1fc279-1a7e-4b88-db9b-b6936044408f"
      },
      "execution_count": 6,
      "outputs": [
        {
          "output_type": "stream",
          "name": "stdout",
          "text": [
            "First Paragraph: Oh, hello! This is a wonderful page meant to let you practice web scraping. This page was originally created to help people work with the Beautiful Soup 4 library.\n"
          ]
        }
      ]
    },
    {
      "cell_type": "code",
      "source": [
        "# Finding all paragraphs\n",
        "paragraphs = soup.find_all('p')\n",
        "for paragraph in paragraphs:\n",
        "    print(\"Paragraph:\", str(paragraph.text))"
      ],
      "metadata": {
        "colab": {
          "base_uri": "https://localhost:8080/"
        },
        "id": "o0UuyUBkksWs",
        "outputId": "5f4c1720-67a6-4e8b-cb3c-243f6b894566"
      },
      "execution_count": 7,
      "outputs": [
        {
          "output_type": "stream",
          "name": "stdout",
          "text": [
            "Paragraph: Oh, hello! This is a wonderful page meant to let you practice web scraping. This page was originally created to help people work with the Beautiful Soup 4 library.\n",
            "Paragraph: The following table gives some general information for the following programming languages:\n",
            "Paragraph: I think it's clear that, on a scale of 1-10, python is:\n",
            "Paragraph: Javascript (dynamic data) test:\n",
            "Paragraph: y u bad tho?\n",
            "Paragraph: Whᶐt hαppéns now¿\n",
            "Paragraph: sitemap\n",
            "Paragraph: Contact: Harrison@pythonprogramming.net.\n",
            "Paragraph: Programming is a superpower.\n"
          ]
        }
      ]
    },
    {
      "cell_type": "code",
      "source": [
        "# Grabbing all the links\n",
        "links = soup.find_all('a')\n",
        "for link in links:\n",
        "    print(\"Link:\", link.get('href'))"
      ],
      "metadata": {
        "colab": {
          "base_uri": "https://localhost:8080/"
        },
        "id": "hQcHKUwskxVg",
        "outputId": "b8cda528-b25a-4197-c795-5a5cbbb61de7"
      },
      "execution_count": 8,
      "outputs": [
        {
          "output_type": "stream",
          "name": "stdout",
          "text": [
            "Link: /\n",
            "Link: #\n",
            "Link: /\n",
            "Link: /+=1/\n",
            "Link: /support/\n",
            "Link: https://goo.gl/7zgAVQ\n",
            "Link: /login/\n",
            "Link: /register/\n",
            "Link: /\n",
            "Link: /+=1/\n",
            "Link: /support/\n",
            "Link: https://goo.gl/7zgAVQ\n",
            "Link: /login/\n",
            "Link: /register/\n",
            "Link: https://www.crummy.com/software/BeautifulSoup/bs4/doc/\n",
            "Link: /sitemap.xml\n",
            "Link: /support-donate/\n",
            "Link: /consulting/\n",
            "Link: https://www.facebook.com/pythonprogramming.net/\n",
            "Link: https://twitter.com/sentdex\n",
            "Link: https://instagram.com/sentdex\n",
            "Link: /about/tos/\n",
            "Link: /about/privacy-policy/\n",
            "Link: https://xkcd.com/353/\n"
          ]
        }
      ]
    },
    {
      "cell_type": "code",
      "source": [
        "# printing all text on the page\n",
        "print(\"Full Page Text:\", soup.get_text())\n"
      ],
      "metadata": {
        "colab": {
          "base_uri": "https://localhost:8080/"
        },
        "id": "qKmjVelkk3Dk",
        "outputId": "3c10dadc-5dfb-46a0-d175-aaaebabef628"
      },
      "execution_count": 9,
      "outputs": [
        {
          "output_type": "stream",
          "name": "stdout",
          "text": [
            "Full Page Text: \n",
            "\n",
            "\n",
            "\n",
            "Python Programming Tutorials\n",
            "\n",
            "\n",
            "\n",
            "\n",
            "\n",
            "\n",
            "\n",
            "\n",
            "\n",
            "\n",
            "\n",
            "\n",
            "\n",
            "\n",
            "\n",
            "\n",
            "\n",
            "\n",
            "\n",
            "\n",
            "\n",
            "\n",
            "\n",
            "search\n",
            "\n",
            "\n",
            "\n",
            "\n",
            "\n",
            "Home\n",
            "+=1\n",
            "\n",
            "Support the Content\n",
            "Community\n",
            "Log in\n",
            "Sign up\n",
            "\n",
            "\n",
            "\n",
            "\n",
            "\n",
            "\n",
            "\n",
            "Home\n",
            "+=1\n",
            "\n",
            "Support the Content\n",
            "Community\n",
            "Log in\n",
            "Sign up\n",
            "\n",
            "\n",
            "\n",
            "\n",
            "\n",
            "\n",
            "\n",
            "\n",
            "\n",
            "\n",
            "\n",
            "Oh, hello! This is a wonderful page meant to let you practice web scraping. This page was originally created to help people work with the Beautiful Soup 4 library.\n",
            "The following table gives some general information for the following programming languages:\n",
            "\n",
            "Python\n",
            "Pascal\n",
            "Lisp\n",
            "D#\n",
            "Cobol\n",
            "Fortran\n",
            "Haskell\n",
            "\n",
            "\n",
            "\n",
            "Program Name\n",
            "Internet Points\n",
            "Kittens?\n",
            "\n",
            "\n",
            "Python\n",
            "932914021\n",
            "Definitely\n",
            "\n",
            "\n",
            "Pascal\n",
            "532\n",
            "Unlikely\n",
            "\n",
            "\n",
            "Lisp\n",
            "1522\n",
            "Uncertain\n",
            "\n",
            "\n",
            "D#\n",
            "12\n",
            "Possibly\n",
            "\n",
            "\n",
            "Cobol\n",
            "3\n",
            "No.\n",
            "\n",
            "\n",
            "Fortran\n",
            "52124\n",
            "Yes.\n",
            "\n",
            "\n",
            "Haskell\n",
            "24\n",
            "lol.\n",
            "\n",
            "\n",
            "I think it's clear that, on a scale of 1-10, python is:\n",
            "\n",
            "\n",
            "\n",
            "\n",
            "\n",
            "\n",
            "Javascript (dynamic data) test:\n",
            "y u bad tho?\n",
            "\n",
            "\n",
            "Beautiful is better than ugly.\n",
            "Explicit is better than implicit.\n",
            "Simple is better than complex.\n",
            "Complex is better than complicated.\n",
            "Flat is better than nested.\n",
            "Sparse is better than dense.\n",
            "Readability counts.\n",
            "Special cases aren't special enough to break the rules.\n",
            "Although practicality beats purity.\n",
            "Errors should never pass silently.\n",
            "Unless explicitly silenced.\n",
            "In the face of ambiguity, refuse the temptation to guess.\n",
            "There should be one-- and preferably only one --obvious way to do it.\n",
            "Although that way may not be obvious at first unless you're Dutch.\n",
            "Now is better than never.\n",
            "Although never is often better than *right* now.\n",
            "If the implementation is hard to explain, it's a bad idea.\n",
            "If the implementation is easy to explain, it may be a good idea.\n",
            "Namespaces are one honking great idea -- let's do more of those!\n",
            "Whᶐt hαppéns now¿\n",
            "sitemap\n",
            "\n",
            "\n",
            "\n",
            "\n",
            "\n",
            "\n",
            "\n",
            "\n",
            "\n",
            "\n",
            "\n",
            "You've reached the end!\n",
            "Contact: Harrison@pythonprogramming.net.\n",
            "\n",
            "Support this Website!\n",
            "Consulting and Contracting\n",
            "Facebook\n",
            "Twitter\n",
            "Instagram\n",
            "\n",
            "\n",
            "\n",
            "Legal stuff:\n",
            "\n",
            "Terms and Conditions\n",
            "Privacy Policy\n",
            "\n",
            "\n",
            "\n",
            "\n",
            "Programming is a superpower.\n",
            "\n",
            "\n",
            "            © OVER 9000! PythonProgramming.net\n",
            "\n",
            "            \n",
            "\n",
            "\n",
            "\n",
            "\n"
          ]
        }
      ]
    },
    {
      "cell_type": "code",
      "source": [],
      "metadata": {
        "id": "yjNJl1FQk6xd"
      },
      "execution_count": null,
      "outputs": []
    }
  ]
}