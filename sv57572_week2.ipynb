{
  "nbformat": 4,
  "nbformat_minor": 0,
  "metadata": {
    "colab": {
      "provenance": []
    },
    "kernelspec": {
      "name": "python3",
      "display_name": "Python 3"
    },
    "language_info": {
      "name": "python"
    }
  },
  "cells": [
    {
      "cell_type": "code",
      "execution_count": 8,
      "metadata": {
        "id": "lOJ-B9eL1ScK"
      },
      "outputs": [],
      "source": [
        "import urllib.request\n",
        "from bs4 import BeautifulSoup"
      ]
    },
    {
      "cell_type": "code",
      "source": [
        "# Connecting to the website\n",
        "url = \"https://pythonprogramming.net/parsememcparseface/\"\n",
        "response = urllib.request.urlopen(url)\n"
      ],
      "metadata": {
        "id": "8qXD5wQw1ctY"
      },
      "execution_count": 9,
      "outputs": []
    },
    {
      "cell_type": "code",
      "source": [
        "# Reading and parsing the webpage content\n",
        "html_content = response.read()\n",
        "soup = BeautifulSoup(html_content, \"lxml\")\n"
      ],
      "metadata": {
        "id": "2MnwRweA1f0s"
      },
      "execution_count": 10,
      "outputs": []
    },
    {
      "cell_type": "code",
      "source": [
        "#page title\n",
        "print(\"Page Title:\", soup.title.string)"
      ],
      "metadata": {
        "colab": {
          "base_uri": "https://localhost:8080/"
        },
        "id": "40v5TE7B1ohO",
        "outputId": "0fb15662-8ba0-425d-f8c1-8706ceeb03fb"
      },
      "execution_count": 11,
      "outputs": [
        {
          "output_type": "stream",
          "name": "stdout",
          "text": [
            "Page Title: Python Programming Tutorials\n"
          ]
        }
      ]
    },
    {
      "cell_type": "code",
      "source": [
        "# Step 4: Get attributes, values, and beginning navigation\n",
        "print(\"\\nPage Attributes:\")\n",
        "print(soup.title.attrs)  # Get attributes of the <title> tag"
      ],
      "metadata": {
        "colab": {
          "base_uri": "https://localhost:8080/"
        },
        "id": "KQiljepY1sUA",
        "outputId": "6a9ca90f-9b75-4312-f320-fa73d06ddd24"
      },
      "execution_count": 12,
      "outputs": [
        {
          "output_type": "stream",
          "name": "stdout",
          "text": [
            "\n",
            "Page Attributes:\n",
            "{}\n"
          ]
        }
      ]
    },
    {
      "cell_type": "code",
      "source": [
        "# Step 5: Find and print all paragraphs\n",
        "paragraphs = soup.find_all(\"p\")\n",
        "print(\"\\nParagraphs:\")\n",
        "for para in paragraphs:\n",
        "    print(str(para.text))  # Convert to string and print text"
      ],
      "metadata": {
        "colab": {
          "base_uri": "https://localhost:8080/"
        },
        "id": "OW61zTfw1xsF",
        "outputId": "52101415-6246-4f76-ca6e-9948f29402c5"
      },
      "execution_count": 13,
      "outputs": [
        {
          "output_type": "stream",
          "name": "stdout",
          "text": [
            "\n",
            "Paragraphs:\n",
            "Oh, hello! This is a wonderful page meant to let you practice web scraping. This page was originally created to help people work with the Beautiful Soup 4 library.\n",
            "The following table gives some general information for the following programming languages:\n",
            "I think it's clear that, on a scale of 1-10, python is:\n",
            "Javascript (dynamic data) test:\n",
            "y u bad tho?\n",
            "Whᶐt hαppéns now¿\n",
            "sitemap\n",
            "Contact: Harrison@pythonprogramming.net.\n",
            "Programming is a superpower.\n"
          ]
        }
      ]
    },
    {
      "cell_type": "code",
      "source": [
        "\n",
        "# Grabbing all links from the page\n",
        "links = soup.find_all(\"a\")  # Finding all <a> tags\n",
        "print(\"\\nLinks:\")\n",
        "for link in links:\n",
        "    print(link.get(\"href\"))  # Extracting only the URL\n",
        "\n"
      ],
      "metadata": {
        "colab": {
          "base_uri": "https://localhost:8080/"
        },
        "id": "VzEH00Gz14q6",
        "outputId": "e20d2465-eb39-445d-fc7e-af94f5706afd"
      },
      "execution_count": 14,
      "outputs": [
        {
          "output_type": "stream",
          "name": "stdout",
          "text": [
            "\n",
            "Links:\n",
            "/\n",
            "#\n",
            "/\n",
            "/+=1/\n",
            "/support/\n",
            "https://goo.gl/7zgAVQ\n",
            "/login/\n",
            "/register/\n",
            "/\n",
            "/+=1/\n",
            "/support/\n",
            "https://goo.gl/7zgAVQ\n",
            "/login/\n",
            "/register/\n",
            "https://www.crummy.com/software/BeautifulSoup/bs4/doc/\n",
            "/sitemap.xml\n",
            "/support-donate/\n",
            "/consulting/\n",
            "https://www.facebook.com/pythonprogramming.net/\n",
            "https://twitter.com/sentdex\n",
            "https://instagram.com/sentdex\n",
            "/about/tos/\n",
            "/about/privacy-policy/\n",
            "https://xkcd.com/353/\n"
          ]
        }
      ]
    },
    {
      "cell_type": "code",
      "source": [
        "#Extracting only the text content\n",
        "page_text = soup.get_text()\n",
        "print(\"\\nPage Text:\")\n",
        "print(page_text[:])"
      ],
      "metadata": {
        "colab": {
          "base_uri": "https://localhost:8080/"
        },
        "id": "AF2IWPJV16c6",
        "outputId": "9682637e-7e1b-4da4-d9e1-f4e311f8badb"
      },
      "execution_count": 18,
      "outputs": [
        {
          "output_type": "stream",
          "name": "stdout",
          "text": [
            "\n",
            "Page Text:\n",
            "\n",
            "\n",
            "\n",
            "\n",
            "Python Programming Tutorials\n",
            "\n",
            "\n",
            "\n",
            "\n",
            "\n",
            "\n",
            "\n",
            "\n",
            "\n",
            "\n",
            "\n",
            "\n",
            "\n",
            "\n",
            "\n",
            "\n",
            "\n",
            "\n",
            "\n",
            "\n",
            "\n",
            "\n",
            "\n",
            "search\n",
            "\n",
            "\n",
            "\n",
            "\n",
            "\n",
            "Home\n",
            "+=1\n",
            "\n",
            "Support the Content\n",
            "Community\n",
            "Log in\n",
            "Sign up\n",
            "\n",
            "\n",
            "\n",
            "\n",
            "\n",
            "\n",
            "\n",
            "Home\n",
            "+=1\n",
            "\n",
            "Support the Content\n",
            "Community\n",
            "Log in\n",
            "Sign up\n",
            "\n",
            "\n",
            "\n",
            "\n",
            "\n",
            "\n",
            "\n",
            "\n",
            "\n",
            "\n",
            "Oh, hello! This is a wonderful page meant to let you practice web scraping. This page was originally created to help people work with the Beautiful Soup 4 library.\n",
            "The following table gives some general information for the following programming languages:\n",
            "\n",
            "Python\n",
            "Pascal\n",
            "Lisp\n",
            "D#\n",
            "Cobol\n",
            "Fortran\n",
            "Haskell\n",
            "\n",
            "\n",
            "\n",
            "Program Name\n",
            "Internet Points\n",
            "Kittens?\n",
            "\n",
            "\n",
            "Python\n",
            "932914021\n",
            "Definitely\n",
            "\n",
            "\n",
            "Pascal\n",
            "532\n",
            "Unlikely\n",
            "\n",
            "\n",
            "Lisp\n",
            "1522\n",
            "Uncertain\n",
            "\n",
            "\n",
            "D#\n",
            "12\n",
            "Possibly\n",
            "\n",
            "\n",
            "Cobol\n",
            "3\n",
            "No.\n",
            "\n",
            "\n",
            "Fortran\n",
            "52124\n",
            "Yes.\n",
            "\n",
            "\n",
            "Haskell\n",
            "24\n",
            "lol.\n",
            "\n",
            "\n",
            "I think it's clear that, on a scale of 1-10, python is:\n",
            "\n",
            "\n",
            "\n",
            "\n",
            "\n",
            "\n",
            "Javascript (dynamic data) test:\n",
            "y u bad tho?\n",
            "\n",
            "\n",
            "Beautiful is better than ugly.\n",
            "Explicit is better than implicit.\n",
            "Simple is better than complex.\n",
            "Complex is better than complicated.\n",
            "Flat is better than nested.\n",
            "Sparse is better than dense.\n",
            "Readability counts.\n",
            "Special cases aren't special enough to break the rules.\n",
            "Although practicality beats purity.\n",
            "Errors should never pass silently.\n",
            "Unless explicitly silenced.\n",
            "In the face of ambiguity, refuse the temptation to guess.\n",
            "There should be one-- and preferably only one --obvious way to do it.\n",
            "Although that way may not be obvious at first unless you're Dutch.\n",
            "Now is better than never.\n",
            "Although never is often better than *right* now.\n",
            "If the implementation is hard to explain, it's a bad idea.\n",
            "If the implementation is easy to explain, it may be a good idea.\n",
            "Namespaces are one honking great idea -- let's do more of those!\n",
            "Whᶐt hαppéns now¿\n",
            "sitemap\n",
            "\n",
            "\n",
            "\n",
            "\n",
            "\n",
            "\n",
            "\n",
            "\n",
            "\n",
            "\n",
            "\n",
            "You've reached the end!\n",
            "Contact: Harrison@pythonprogramming.net.\n",
            "\n",
            "Support this Website!\n",
            "Consulting and Contracting\n",
            "Facebook\n",
            "Twitter\n",
            "Instagram\n",
            "\n",
            "\n",
            "\n",
            "Legal stuff:\n",
            "\n",
            "Terms and Conditions\n",
            "Privacy Policy\n",
            "\n",
            "\n",
            "\n",
            "\n",
            "Programming is a superpower.\n",
            "\n",
            "\n",
            "            © OVER 9000! PythonProgramming.net\n",
            "\n",
            "            \n",
            "\n",
            "\n",
            "\n",
            "\n"
          ]
        }
      ]
    },
    {
      "cell_type": "code",
      "source": [],
      "metadata": {
        "id": "xV9E-AKh17eQ"
      },
      "execution_count": null,
      "outputs": []
    }
  ]
}